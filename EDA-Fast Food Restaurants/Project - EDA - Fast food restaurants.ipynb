{
 "cells": [
  {
   "cell_type": "markdown",
   "metadata": {},
   "source": [
    "# Fast food Restaurants Data (EDA project)\n",
    "## Term 1\n",
    "\n",
    "### Notebook by Aruna Chunduru\n",
    "#### Supported by [Suchit](https://www.insaid.co/)"
   ]
  },
  {
   "cell_type": "markdown",
   "metadata": {},
   "source": [
    "## Table of Contents\n",
    "\n",
    "1. [Introduction](#Introduction)\n",
    "2. [Required libraries](#Required libraries)\n",
    "3. [Problem Statement](#Problem Statement)\n",
    "4. [Data Loading and Description](#section1)\n",
    "5. [Data Profiling](#section2)\n",
    "    - 5.1 [Understanding the Dataset](#section501)\n",
    "    - 5.2 [Pre Profiling](#section502)\n",
    "    - 5.3 [Processing](#section503)\n",
    "    - 5.4 [Post Profiling](#section504)\n",
    "6. [Analysis](#section6)\n",
    "    - 6.1 [Grouping all the movies with respect to Year of release](#section601)<br/>\n",
    "    - 6.2 [Which year highest Revenue was generated ?](#section602)<br/>\n",
    "    - 6.3 [Which Genre's are listed the most ?](#section603)<br/>\n",
    "    - 6.4 [Which Genre movie has generated the highest Revenue?](#section604)<br/>\n",
    "    - 6.5 [How are  'Rank' , 'Votes', 'Metascore' affecting the 'Ratings' of the movie ?](#section605)<br/>\n",
    "    - 6.6 [How strongly is ‘Rank’, ‘Votes’,  'Metascore' variables correlated with Rating ?](#section606)<br/>\n",
    "    - 6.7 [Establish coorelation between all the features using heatmap.](#section607)<br/>\n",
    "    - 6.8 [Which Genre has got maximum Rating ?](#section608)<br/>\n",
    "    - 6.9 [Analysing based on the column \"CategoryOnRating\"](#section609)<br/>\n",
    "    - 6.10[Analysing Rating with Runtime (Minutes).](#section610)<br/>\n",
    "    - 6.11[Finding out which director has maximum number of appearence in the list.](#section611)<br/>\n",
    "    - 6.12[finding out which directors movie has the highest box office collection?](#section612)<br/>\n",
    "    - 6.13[Lets joine both 6.11 and 6.12 to see who is the best Director ?](#section612)<br/>\n",
    "7. [Conclusion:](#section7)<br/>  "
   ]
  },
  {
   "cell_type": "markdown",
   "metadata": {},
   "source": [
    "<a id='Introduction'></a>"
   ]
  },
  {
   "cell_type": "markdown",
   "metadata": {},
   "source": [
    "## 1. Introduction"
   ]
  },
  {
   "cell_type": "markdown",
   "metadata": {},
   "source": [
    "Data science is a multidisciplinary blend of data inference, algorithm development, and technology in order to solve analytically complex problems.\n",
    "\n",
    "In response to this massive influx of data, the field of Data Science has come to the forefront in the past decade. Cobbled together by people from a diverse array of fields — statistics, physics, computer science, design, and many more — the field of Data Science represents our collective desire to understand and harness the abundance of data around us to build a better world.\n",
    "\n",
    "The notebooks explores the basic use of __Pandas__ and will cover the basic commands of __Exploratory Data Analysis(EDA)__ which includes __cleaning__, __munging__, __combining__, __reshaping__, __slicing__, __dicing__, and __transforming data__ for analysis purpose.\n",
    "\n",
    "\n",
    "* __Exploratory Data Analysis__ <br/>\n",
    "Understand the data by EDA and derive simple models with Pandas as baseline.\n",
    "EDA ia a critical and first step in analyzing the data and we do this for below reasons :\n",
    "    - Finding patterns in Data\n",
    "    - Determining relationships in Data\n",
    "    - Checking of assumptions\n",
    "    - Preliminary selection of appropriate models\n",
    "    - Detection of mistakes"
   ]
  },
  {
   "cell_type": "markdown",
   "metadata": {},
   "source": [
    "<a id='Required libraries'></a>"
   ]
  },
  {
   "cell_type": "markdown",
   "metadata": {},
   "source": [
    "## 2. Required libraries\n",
    "\n",
    "If you don't have Python on your computer, you can use the [Anaconda Python distribution](https://www.anaconda.com/download/) to install most of the Python packages you need. Anaconda provides a simple double-click installer for your convenience.\n",
    "\n",
    "This notebook uses several Python packages that come standard with the Anaconda Python distribution. The primary libraries that we'll be using are:\n",
    "\n",
    "* **NumPy**: Provides a fast numerical array structure and helper functions.\n",
    "* **pandas**: Provides a DataFrame structure to store data in memory and work with it easily and efficiently.\n",
    "* **matplotlib**: Basic plotting library in Python; most other Python plotting libraries are built on top of it.\n",
    "* **Seaborn**: Advanced statistical plotting library."
   ]
  },
  {
   "cell_type": "markdown",
   "metadata": {},
   "source": [
    "<a id='Problem Statement'></a>"
   ]
  },
  {
   "cell_type": "markdown",
   "metadata": {},
   "source": [
    "## 3. Problem Statement\n",
    "\n",
    "This project is to perform EDA using Pandas on the Fast Food Restaurants data and provide actionable insights to the stakeholders. The stakeholders can be the existing restaurants management, person who want to start a fast food restaurant post understanding the current business scenario or the food delivery chains who accepts and deliver food at door step\n",
    "    \n",
    "    "
   ]
  },
  {
   "cell_type": "markdown",
   "metadata": {},
   "source": [
    "<a id=section1></a> \n",
    "## 4. Data Loading and Description \n",
    "\n",
    "#### Imange(Pending)\n",
    "\n",
    "- The dataset consists of the information about Fast food Restaurants located at US. Various variables present in the dataset includes data of city,country,province etc. \n",
    "- The dataset comprises of __10000 observations of 10 columns__. Below is a table showing names of all the columns and their description."
   ]
  },
  {
   "cell_type": "markdown",
   "metadata": {},
   "source": [
    "| Column Name   | Description                                               |\n",
    "| ------------- |:-------------                                            :| \n",
    "| address       | Address of the Restaurant                                 | \n",
    "| city          | Name of the city where the Restaurant is located          |  \n",
    "| country       | Name of the country where the Restaurant is located       | \n",
    "| keys          | Key of the Restaurant                                     |   \n",
    "| latitude      | Latitude dimension                                        |\n",
    "| longitude     | Longitude dimension                                       |\n",
    "| name          | Name of the restaurant                                    |\n",
    "| postalCode    | Postal code                                               |\n",
    "| province      | State where the Restaurant is located                     |\n",
    "| websites      | Web address of the Restaurant                             |"
   ]
  },
  {
   "cell_type": "markdown",
   "metadata": {},
   "source": [
    "#### Fast food industry - Statistics & Facts\n",
    "- The fast food industry in the United States is worth approximatly __198.9 billion U.S. dollers __.\n",
    "  By 2020,this figure is forecasted to exceed 223 billion.The majority of this large market is comprised of on-premises           restaurants and drive-thrus, the rest consists of off-premises dining (take out) and cafeterias and buffets.  \n",
    "  \n",
    "- In 2016, there were __186,977__ franchised quick service restaurants in the United States; a figure which has grown by almost   __28__ thousand from almost a decade ago.\n",
    "  \n",
    "- As the fast food industry is growing at very fast rate in United states ,I would like to explore about the __distribution of    the Resturants__ using the open source data available at __git-hub sites__.  "
   ]
  },
  {
   "cell_type": "markdown",
   "metadata": {},
   "source": [
    "#### Run this line in case you dont have pandas_profiling installed.\n",
    "```python\n",
    "!pip install pandas_profiling\n",
    "```                               "
   ]
  },
  {
   "cell_type": "markdown",
   "metadata": {},
   "source": [
    "#### Importing packages       "
   ]
  },
  {
   "cell_type": "code",
   "execution_count": 11,
   "metadata": {
    "collapsed": true
   },
   "outputs": [],
   "source": [
    "import numpy as np                                                 # Implemennts milti-dimensional array and matrices\n",
    "import pandas as pd                                                # For data manipulation and analysis\n",
    "import pandas_profiling\n",
    "import matplotlib.pyplot as plt                                    # Plotting library for Python programming language and it's numerical mathematics extension NumPy\n",
    "import seaborn as sns                                              # Provides a high level interface for drawing attractive and informative statistical graphics\n",
    "%matplotlib inline\n",
    "sns.set()\n",
    "\n",
    "from subprocess import check_output\n",
    "\n",
    "\n",
    "\n",
    "import bokeh as bok\n",
    "\n",
    "import string"
   ]
  },
  {
   "cell_type": "markdown",
   "metadata": {},
   "source": [
    "#### Importing Fast Food Restaurants dataset"
   ]
  },
  {
   "cell_type": "code",
   "execution_count": 12,
   "metadata": {
    "collapsed": true
   },
   "outputs": [],
   "source": [
    "restaurant_data=pd.read_csv(\"https://raw.githubusercontent.com/insaid2018/Term-1/master/Data/Projects/FastFoodRestaurants.csv\")"
   ]
  },
  {
   "cell_type": "markdown",
   "metadata": {},
   "source": [
    "<a id=section2></a>\n",
    "## 5. Data Profiling"
   ]
  },
  {
   "cell_type": "markdown",
   "metadata": {},
   "source": [
    "- In the upcoming sections we will first __understand our dataset__ using various pandas functionalities.\n",
    "- Then with the help of __pandas profiling__ we will find which columns of our dataset need preprocessing.\n",
    "- In __preprocessing__ we will deal with erronous and missing values of columns. \n",
    "- Again we will do __pandas profiling__ to see how preprocessing have transformed our dataset."
   ]
  },
  {
   "cell_type": "markdown",
   "metadata": {},
   "source": [
    "<a id=section501></a>\n",
    "### 5.1 Understanding the Dataset"
   ]
  },
  {
   "cell_type": "markdown",
   "metadata": {},
   "source": [
    "To gain insights from data we must look into each aspect of it very carefully. We will start with observing few rows and columns of data both from the starting and from the end\n",
    "\n",
    "Review the data types and sample data to understand what variables we are dealing with?<br>\n",
    "\n",
    "Which variables need to be transformed in some way before they can be analyzed?"
   ]
  },
  {
   "cell_type": "code",
   "execution_count": 13,
   "metadata": {},
   "outputs": [
    {
     "data": {
      "text/plain": [
       "address        object\n",
       "city           object\n",
       "country        object\n",
       "keys           object\n",
       "latitude      float64\n",
       "longitude     float64\n",
       "name           object\n",
       "postalCode     object\n",
       "province       object\n",
       "websites       object\n",
       "dtype: object"
      ]
     },
     "execution_count": 13,
     "metadata": {},
     "output_type": "execute_result"
    }
   ],
   "source": [
    "restaurant_data.dtypes"
   ]
  },
  {
   "cell_type": "code",
   "execution_count": 14,
   "metadata": {},
   "outputs": [
    {
     "data": {
      "text/plain": [
       "(10000, 10)"
      ]
     },
     "execution_count": 14,
     "metadata": {},
     "output_type": "execute_result"
    }
   ],
   "source": [
    "restaurant_data.shape"
   ]
  },
  {
   "cell_type": "markdown",
   "metadata": {},
   "source": [
    "restaurant_data has __10000 rows__ and __10 columns.__"
   ]
  },
  {
   "cell_type": "code",
   "execution_count": 15,
   "metadata": {
    "scrolled": true
   },
   "outputs": [
    {
     "data": {
      "text/html": [
       "<div>\n",
       "<style>\n",
       "    .dataframe thead tr:only-child th {\n",
       "        text-align: right;\n",
       "    }\n",
       "\n",
       "    .dataframe thead th {\n",
       "        text-align: left;\n",
       "    }\n",
       "\n",
       "    .dataframe tbody tr th {\n",
       "        vertical-align: top;\n",
       "    }\n",
       "</style>\n",
       "<table border=\"1\" class=\"dataframe\">\n",
       "  <thead>\n",
       "    <tr style=\"text-align: right;\">\n",
       "      <th></th>\n",
       "      <th>address</th>\n",
       "      <th>city</th>\n",
       "      <th>country</th>\n",
       "      <th>keys</th>\n",
       "      <th>latitude</th>\n",
       "      <th>longitude</th>\n",
       "      <th>name</th>\n",
       "      <th>postalCode</th>\n",
       "      <th>province</th>\n",
       "      <th>websites</th>\n",
       "    </tr>\n",
       "  </thead>\n",
       "  <tbody>\n",
       "    <tr>\n",
       "      <th>0</th>\n",
       "      <td>324 Main St</td>\n",
       "      <td>Massena</td>\n",
       "      <td>US</td>\n",
       "      <td>us/ny/massena/324mainst/-1161002137</td>\n",
       "      <td>44.92130</td>\n",
       "      <td>-74.89021</td>\n",
       "      <td>McDonald's</td>\n",
       "      <td>13662</td>\n",
       "      <td>NY</td>\n",
       "      <td>http://mcdonalds.com,http://www.mcdonalds.com/...</td>\n",
       "    </tr>\n",
       "    <tr>\n",
       "      <th>1</th>\n",
       "      <td>530 Clinton Ave</td>\n",
       "      <td>Washington Court House</td>\n",
       "      <td>US</td>\n",
       "      <td>us/oh/washingtoncourthouse/530clintonave/-7914...</td>\n",
       "      <td>39.53255</td>\n",
       "      <td>-83.44526</td>\n",
       "      <td>Wendy's</td>\n",
       "      <td>43160</td>\n",
       "      <td>OH</td>\n",
       "      <td>http://www.wendys.com</td>\n",
       "    </tr>\n",
       "    <tr>\n",
       "      <th>2</th>\n",
       "      <td>408 Market Square Dr</td>\n",
       "      <td>Maysville</td>\n",
       "      <td>US</td>\n",
       "      <td>us/ky/maysville/408marketsquaredr/1051460804</td>\n",
       "      <td>38.62736</td>\n",
       "      <td>-83.79141</td>\n",
       "      <td>Frisch's Big Boy</td>\n",
       "      <td>41056</td>\n",
       "      <td>KY</td>\n",
       "      <td>http://www.frischs.com,https://www.frischs.com...</td>\n",
       "    </tr>\n",
       "    <tr>\n",
       "      <th>3</th>\n",
       "      <td>6098 State Highway 37</td>\n",
       "      <td>Massena</td>\n",
       "      <td>US</td>\n",
       "      <td>us/ny/massena/6098statehighway37/-1161002137</td>\n",
       "      <td>44.95008</td>\n",
       "      <td>-74.84553</td>\n",
       "      <td>McDonald's</td>\n",
       "      <td>13662</td>\n",
       "      <td>NY</td>\n",
       "      <td>http://mcdonalds.com,http://www.mcdonalds.com/...</td>\n",
       "    </tr>\n",
       "    <tr>\n",
       "      <th>4</th>\n",
       "      <td>139 Columbus Rd</td>\n",
       "      <td>Athens</td>\n",
       "      <td>US</td>\n",
       "      <td>us/oh/athens/139columbusrd/990890980</td>\n",
       "      <td>39.35155</td>\n",
       "      <td>-82.09728</td>\n",
       "      <td>OMG! Rotisserie</td>\n",
       "      <td>45701</td>\n",
       "      <td>OH</td>\n",
       "      <td>http://www.omgrotisserie.com,http://omgrotisse...</td>\n",
       "    </tr>\n",
       "  </tbody>\n",
       "</table>\n",
       "</div>"
      ],
      "text/plain": [
       "                 address                    city country  \\\n",
       "0            324 Main St                 Massena      US   \n",
       "1        530 Clinton Ave  Washington Court House      US   \n",
       "2   408 Market Square Dr               Maysville      US   \n",
       "3  6098 State Highway 37                 Massena      US   \n",
       "4        139 Columbus Rd                  Athens      US   \n",
       "\n",
       "                                                keys  latitude  longitude  \\\n",
       "0                us/ny/massena/324mainst/-1161002137  44.92130  -74.89021   \n",
       "1  us/oh/washingtoncourthouse/530clintonave/-7914...  39.53255  -83.44526   \n",
       "2       us/ky/maysville/408marketsquaredr/1051460804  38.62736  -83.79141   \n",
       "3       us/ny/massena/6098statehighway37/-1161002137  44.95008  -74.84553   \n",
       "4               us/oh/athens/139columbusrd/990890980  39.35155  -82.09728   \n",
       "\n",
       "               name postalCode province  \\\n",
       "0        McDonald's      13662       NY   \n",
       "1           Wendy's      43160       OH   \n",
       "2  Frisch's Big Boy      41056       KY   \n",
       "3        McDonald's      13662       NY   \n",
       "4   OMG! Rotisserie      45701       OH   \n",
       "\n",
       "                                            websites  \n",
       "0  http://mcdonalds.com,http://www.mcdonalds.com/...  \n",
       "1                              http://www.wendys.com  \n",
       "2  http://www.frischs.com,https://www.frischs.com...  \n",
       "3  http://mcdonalds.com,http://www.mcdonalds.com/...  \n",
       "4  http://www.omgrotisserie.com,http://omgrotisse...  "
      ]
     },
     "execution_count": 15,
     "metadata": {},
     "output_type": "execute_result"
    }
   ],
   "source": [
    "restaurant_data.head()"
   ]
  },
  {
   "cell_type": "code",
   "execution_count": 16,
   "metadata": {},
   "outputs": [
    {
     "data": {
      "text/html": [
       "<div>\n",
       "<style>\n",
       "    .dataframe thead tr:only-child th {\n",
       "        text-align: right;\n",
       "    }\n",
       "\n",
       "    .dataframe thead th {\n",
       "        text-align: left;\n",
       "    }\n",
       "\n",
       "    .dataframe tbody tr th {\n",
       "        vertical-align: top;\n",
       "    }\n",
       "</style>\n",
       "<table border=\"1\" class=\"dataframe\">\n",
       "  <thead>\n",
       "    <tr style=\"text-align: right;\">\n",
       "      <th></th>\n",
       "      <th>address</th>\n",
       "      <th>city</th>\n",
       "      <th>country</th>\n",
       "      <th>keys</th>\n",
       "      <th>name</th>\n",
       "      <th>postalCode</th>\n",
       "      <th>province</th>\n",
       "      <th>websites</th>\n",
       "    </tr>\n",
       "  </thead>\n",
       "  <tbody>\n",
       "    <tr>\n",
       "      <th>count</th>\n",
       "      <td>10000</td>\n",
       "      <td>10000</td>\n",
       "      <td>10000</td>\n",
       "      <td>10000</td>\n",
       "      <td>10000</td>\n",
       "      <td>10000</td>\n",
       "      <td>10000</td>\n",
       "      <td>9535</td>\n",
       "    </tr>\n",
       "    <tr>\n",
       "      <th>unique</th>\n",
       "      <td>9934</td>\n",
       "      <td>2775</td>\n",
       "      <td>1</td>\n",
       "      <td>10000</td>\n",
       "      <td>548</td>\n",
       "      <td>5289</td>\n",
       "      <td>52</td>\n",
       "      <td>3821</td>\n",
       "    </tr>\n",
       "    <tr>\n",
       "      <th>top</th>\n",
       "      <td>515 E Main St</td>\n",
       "      <td>Cincinnati</td>\n",
       "      <td>US</td>\n",
       "      <td>us/ma/brockton/27westgatedrive/-448666054</td>\n",
       "      <td>McDonald's</td>\n",
       "      <td>57701</td>\n",
       "      <td>CA</td>\n",
       "      <td>http://mcdonalds.com,http://www.mcdonalds.com/...</td>\n",
       "    </tr>\n",
       "    <tr>\n",
       "      <th>freq</th>\n",
       "      <td>3</td>\n",
       "      <td>119</td>\n",
       "      <td>10000</td>\n",
       "      <td>1</td>\n",
       "      <td>1886</td>\n",
       "      <td>23</td>\n",
       "      <td>676</td>\n",
       "      <td>1074</td>\n",
       "    </tr>\n",
       "  </tbody>\n",
       "</table>\n",
       "</div>"
      ],
      "text/plain": [
       "              address        city country  \\\n",
       "count           10000       10000   10000   \n",
       "unique           9934        2775       1   \n",
       "top     515 E Main St  Cincinnati      US   \n",
       "freq                3         119   10000   \n",
       "\n",
       "                                             keys        name postalCode  \\\n",
       "count                                       10000       10000      10000   \n",
       "unique                                      10000         548       5289   \n",
       "top     us/ma/brockton/27westgatedrive/-448666054  McDonald's      57701   \n",
       "freq                                            1        1886         23   \n",
       "\n",
       "       province                                           websites  \n",
       "count     10000                                               9535  \n",
       "unique       52                                               3821  \n",
       "top          CA  http://mcdonalds.com,http://www.mcdonalds.com/...  \n",
       "freq        676                                               1074  "
      ]
     },
     "execution_count": 16,
     "metadata": {},
     "output_type": "execute_result"
    }
   ],
   "source": [
    "restaurant_data.describe(include=[np.object])"
   ]
  },
  {
   "cell_type": "code",
   "execution_count": 17,
   "metadata": {},
   "outputs": [
    {
     "name": "stdout",
     "output_type": "stream",
     "text": [
      "<class 'pandas.core.frame.DataFrame'>\n",
      "RangeIndex: 10000 entries, 0 to 9999\n",
      "Data columns (total 10 columns):\n",
      "address       10000 non-null object\n",
      "city          10000 non-null object\n",
      "country       10000 non-null object\n",
      "keys          10000 non-null object\n",
      "latitude      10000 non-null float64\n",
      "longitude     10000 non-null float64\n",
      "name          10000 non-null object\n",
      "postalCode    10000 non-null object\n",
      "province      10000 non-null object\n",
      "websites      9535 non-null object\n",
      "dtypes: float64(2), object(8)\n",
      "memory usage: 781.3+ KB\n"
     ]
    }
   ],
   "source": [
    "restaurant_data.info()"
   ]
  },
  {
   "cell_type": "code",
   "execution_count": 18,
   "metadata": {},
   "outputs": [
    {
     "data": {
      "text/plain": [
       "address         0\n",
       "city            0\n",
       "country         0\n",
       "keys            0\n",
       "latitude        0\n",
       "longitude       0\n",
       "name            0\n",
       "postalCode      0\n",
       "province        0\n",
       "websites      465\n",
       "dtype: int64"
      ]
     },
     "execution_count": 18,
     "metadata": {},
     "output_type": "execute_result"
    }
   ],
   "source": [
    "restaurant_data.isnull().sum()"
   ]
  },
  {
   "cell_type": "markdown",
   "metadata": {},
   "source": [
    "From the above output we can see that __websites__ column contains __null values__. We will see how to deal with them."
   ]
  },
  {
   "cell_type": "markdown",
   "metadata": {},
   "source": [
    "<a id=section502></a>\n",
    "### 5.2 Pre Profiling"
   ]
  },
  {
   "cell_type": "markdown",
   "metadata": {},
   "source": [
    "- By pandas profiling, an __interactive HTML report__ gets generated which contins all the information about the columns of the dataset, like the __counts and type__ of each _column_. Detailed information about each column, __coorelation between different columns__ and a sample of dataset.<br/>\n",
    "- It gives us __visual interpretation__ of each column in the data.\n",
    "- _Spread of the data_ can be better understood by the distribution plot. \n",
    "- _Grannular level_ analysis of each column."
   ]
  },
  {
   "cell_type": "code",
   "execution_count": 19,
   "metadata": {
    "collapsed": true
   },
   "outputs": [],
   "source": [
    "profile=pandas_profiling.ProfileReport(restaurant_data)\n",
    "profile.to_file(outputfile=\"restaurant_before_processing.html\")"
   ]
  },
  {
   "cell_type": "markdown",
   "metadata": {},
   "source": [
    "Here, we have done Pandas Profiling before preprocessing our dataset, so we have named the html file as __titanic_before_preprocessing.html__. Take a look at the file and see what useful insight we can develop from it. <br/>\n",
    "Now we will process our data to better understand it."
   ]
  },
  {
   "cell_type": "markdown",
   "metadata": {},
   "source": [
    "<a id=section503></a>\n",
    "### 5.3 Processing"
   ]
  },
  {
   "cell_type": "markdown",
   "metadata": {},
   "source": [
    "###  Initial observations:\n",
    "- Summary of data types in this dataset:\n",
    " - <em>Numeric</em>: <strong>latitude</strong> and <strong>longitude</strong> (integer)\n",
    " - <em>Object</em>: <strong>address</strong>,<strong>city</strong>,<strong>country</strong>,<strong>name</strong>,                                   <strong>province</strong>,<strong>keys</strong>,<strong>websites</strong>\n",
    " - <em>Numeric</em>: <strong>postalcode</strong>\n",
    " \n",
    "\n",
    "- The __websites__ column consists of __465 Null values__,also this column is not adding any additional info in the dataset.       we can drop the __websites__ column for our further analysis.  \n",
    "\n",
    "- The keys columns consists of information related to combination of __country,province,city,address and unique numeric value__   in only one column,the same information is also available in seperate column.                                                   we can drop the __keys__ column for our further analysis of the fast food restaurants.\n",
    "\n",
    "- The __country__ column has only 1 unique value i.e '__U.S__', as we are dealing with the fast food restaurants resides in         __United States__, we can drop the __country__ column for our further analysis of the fast food restaurants.\n",
    "\n",
    "- The __address__ column have __9934__ distinct values for all the restaurants resides in __U.S__.                               \n",
    "\n",
    "- The __city__ column have __2775__ distinct values i.e __27.8%__ out of the __10000__ restaurants resides in __U.S__.\n",
    "\n",
    "- The __name__ column have __548__ distinct values i.e __5.5%__ out of the __10000__ restaurants resides in __U.S__.                 \n",
    "- The __postalcode__ column have __5289__ distinct values i.e __52.9%__ out of the __10000__ restaurants resides in __U.S__. \n",
    "\n",
    "- The __latitude__ and __longitude__ columns have no Null values.                                                                \n",
    "- The __province__ column have __52__ distinct values. "
   ]
  },
  {
   "cell_type": "markdown",
   "metadata": {},
   "source": [
    "- Dropping the __websites__ column is a good idea as it's not giving any additional info for analysis and also it consists         of __465__ Null values for different restaurants resides in __U.S__. \n",
    "- Dropping the __keys__ column is a good idea as all the info present in this column are already covered in other individual       columns present in the dataset"
   ]
  },
  {
   "cell_type": "code",
   "execution_count": 20,
   "metadata": {},
   "outputs": [
    {
     "data": {
      "text/html": [
       "<div>\n",
       "<style>\n",
       "    .dataframe thead tr:only-child th {\n",
       "        text-align: right;\n",
       "    }\n",
       "\n",
       "    .dataframe thead th {\n",
       "        text-align: left;\n",
       "    }\n",
       "\n",
       "    .dataframe tbody tr th {\n",
       "        vertical-align: top;\n",
       "    }\n",
       "</style>\n",
       "<table border=\"1\" class=\"dataframe\">\n",
       "  <thead>\n",
       "    <tr style=\"text-align: right;\">\n",
       "      <th></th>\n",
       "      <th>address</th>\n",
       "      <th>city</th>\n",
       "      <th>country</th>\n",
       "      <th>keys</th>\n",
       "      <th>latitude</th>\n",
       "      <th>longitude</th>\n",
       "      <th>name</th>\n",
       "      <th>postalCode</th>\n",
       "      <th>province</th>\n",
       "      <th>websites</th>\n",
       "    </tr>\n",
       "  </thead>\n",
       "  <tbody>\n",
       "    <tr>\n",
       "      <th>8750</th>\n",
       "      <td>14591 Jefferson Davis Hwy</td>\n",
       "      <td>Woodbridge</td>\n",
       "      <td>US</td>\n",
       "      <td>us/va/woodbridge/14591jeffersondavishwy/-11610...</td>\n",
       "      <td>38.635159</td>\n",
       "      <td>-77.270506</td>\n",
       "      <td>McDonald's</td>\n",
       "      <td>22191</td>\n",
       "      <td>VA</td>\n",
       "      <td>http://mcdonalds.com</td>\n",
       "    </tr>\n",
       "    <tr>\n",
       "      <th>3536</th>\n",
       "      <td>2783 S Clark St</td>\n",
       "      <td>Mexico</td>\n",
       "      <td>US</td>\n",
       "      <td>us/mo/mexico/2783sclarkst/-1161002137</td>\n",
       "      <td>39.147060</td>\n",
       "      <td>-91.889520</td>\n",
       "      <td>McDonald's</td>\n",
       "      <td>65265</td>\n",
       "      <td>MO</td>\n",
       "      <td>http://www.mcdonalds.com/?cid=RF:YXT_FM:TP::Ye...</td>\n",
       "    </tr>\n",
       "    <tr>\n",
       "      <th>9016</th>\n",
       "      <td>3201 S Ferdon Blvd</td>\n",
       "      <td>Crestview</td>\n",
       "      <td>US</td>\n",
       "      <td>us/fl/crestview/3201sferdonblvd/-1161002137</td>\n",
       "      <td>30.728600</td>\n",
       "      <td>-86.567100</td>\n",
       "      <td>McDonalds</td>\n",
       "      <td>32536</td>\n",
       "      <td>FL</td>\n",
       "      <td>http://mcdonalds.com,http://www.mcdonalds.com/...</td>\n",
       "    </tr>\n",
       "    <tr>\n",
       "      <th>2937</th>\n",
       "      <td>83131 Avenue 48</td>\n",
       "      <td>Coachella</td>\n",
       "      <td>US</td>\n",
       "      <td>us/ca/coachella/83131avenue48/-1161002137</td>\n",
       "      <td>33.700000</td>\n",
       "      <td>-116.214300</td>\n",
       "      <td>McDonalds</td>\n",
       "      <td>92236</td>\n",
       "      <td>CA</td>\n",
       "      <td>http://mcdonalds.com,http://www.mcdonalds.com/...</td>\n",
       "    </tr>\n",
       "    <tr>\n",
       "      <th>7178</th>\n",
       "      <td>2540 Delk Rd SE</td>\n",
       "      <td>Marietta</td>\n",
       "      <td>US</td>\n",
       "      <td>us/ga/marietta/2540delkrdse/-864103396</td>\n",
       "      <td>33.922663</td>\n",
       "      <td>-84.480224</td>\n",
       "      <td>Taco Bell</td>\n",
       "      <td>30067</td>\n",
       "      <td>GA</td>\n",
       "      <td>http://www.tacobell.com,http://tacobell.com</td>\n",
       "    </tr>\n",
       "  </tbody>\n",
       "</table>\n",
       "</div>"
      ],
      "text/plain": [
       "                        address        city country  \\\n",
       "8750  14591 Jefferson Davis Hwy  Woodbridge      US   \n",
       "3536            2783 S Clark St      Mexico      US   \n",
       "9016         3201 S Ferdon Blvd   Crestview      US   \n",
       "2937            83131 Avenue 48   Coachella      US   \n",
       "7178            2540 Delk Rd SE    Marietta      US   \n",
       "\n",
       "                                                   keys   latitude  \\\n",
       "8750  us/va/woodbridge/14591jeffersondavishwy/-11610...  38.635159   \n",
       "3536              us/mo/mexico/2783sclarkst/-1161002137  39.147060   \n",
       "9016        us/fl/crestview/3201sferdonblvd/-1161002137  30.728600   \n",
       "2937          us/ca/coachella/83131avenue48/-1161002137  33.700000   \n",
       "7178             us/ga/marietta/2540delkrdse/-864103396  33.922663   \n",
       "\n",
       "       longitude        name postalCode province  \\\n",
       "8750  -77.270506  McDonald's      22191       VA   \n",
       "3536  -91.889520  McDonald's      65265       MO   \n",
       "9016  -86.567100   McDonalds      32536       FL   \n",
       "2937 -116.214300   McDonalds      92236       CA   \n",
       "7178  -84.480224   Taco Bell      30067       GA   \n",
       "\n",
       "                                               websites  \n",
       "8750                               http://mcdonalds.com  \n",
       "3536  http://www.mcdonalds.com/?cid=RF:YXT_FM:TP::Ye...  \n",
       "9016  http://mcdonalds.com,http://www.mcdonalds.com/...  \n",
       "2937  http://mcdonalds.com,http://www.mcdonalds.com/...  \n",
       "7178        http://www.tacobell.com,http://tacobell.com  "
      ]
     },
     "execution_count": 20,
     "metadata": {},
     "output_type": "execute_result"
    }
   ],
   "source": [
    "restaurant_data_new=restaurant_data.copy(deep=True)  #Creating a new DataFrame to clean data for analysis\n",
    "restaurant_data_new.sample(5)"
   ]
  },
  {
   "cell_type": "code",
   "execution_count": 21,
   "metadata": {},
   "outputs": [
    {
     "data": {
      "text/html": [
       "<div>\n",
       "<style>\n",
       "    .dataframe thead tr:only-child th {\n",
       "        text-align: right;\n",
       "    }\n",
       "\n",
       "    .dataframe thead th {\n",
       "        text-align: left;\n",
       "    }\n",
       "\n",
       "    .dataframe tbody tr th {\n",
       "        vertical-align: top;\n",
       "    }\n",
       "</style>\n",
       "<table border=\"1\" class=\"dataframe\">\n",
       "  <thead>\n",
       "    <tr style=\"text-align: right;\">\n",
       "      <th></th>\n",
       "      <th>address</th>\n",
       "      <th>city</th>\n",
       "      <th>country</th>\n",
       "      <th>latitude</th>\n",
       "      <th>longitude</th>\n",
       "      <th>name</th>\n",
       "      <th>postalCode</th>\n",
       "      <th>province</th>\n",
       "    </tr>\n",
       "  </thead>\n",
       "  <tbody>\n",
       "    <tr>\n",
       "      <th>0</th>\n",
       "      <td>324 Main St</td>\n",
       "      <td>Massena</td>\n",
       "      <td>US</td>\n",
       "      <td>44.92130</td>\n",
       "      <td>-74.89021</td>\n",
       "      <td>McDonald's</td>\n",
       "      <td>13662</td>\n",
       "      <td>NY</td>\n",
       "    </tr>\n",
       "    <tr>\n",
       "      <th>1</th>\n",
       "      <td>530 Clinton Ave</td>\n",
       "      <td>Washington Court House</td>\n",
       "      <td>US</td>\n",
       "      <td>39.53255</td>\n",
       "      <td>-83.44526</td>\n",
       "      <td>Wendy's</td>\n",
       "      <td>43160</td>\n",
       "      <td>OH</td>\n",
       "    </tr>\n",
       "    <tr>\n",
       "      <th>2</th>\n",
       "      <td>408 Market Square Dr</td>\n",
       "      <td>Maysville</td>\n",
       "      <td>US</td>\n",
       "      <td>38.62736</td>\n",
       "      <td>-83.79141</td>\n",
       "      <td>Frisch's Big Boy</td>\n",
       "      <td>41056</td>\n",
       "      <td>KY</td>\n",
       "    </tr>\n",
       "    <tr>\n",
       "      <th>3</th>\n",
       "      <td>6098 State Highway 37</td>\n",
       "      <td>Massena</td>\n",
       "      <td>US</td>\n",
       "      <td>44.95008</td>\n",
       "      <td>-74.84553</td>\n",
       "      <td>McDonald's</td>\n",
       "      <td>13662</td>\n",
       "      <td>NY</td>\n",
       "    </tr>\n",
       "    <tr>\n",
       "      <th>4</th>\n",
       "      <td>139 Columbus Rd</td>\n",
       "      <td>Athens</td>\n",
       "      <td>US</td>\n",
       "      <td>39.35155</td>\n",
       "      <td>-82.09728</td>\n",
       "      <td>OMG! Rotisserie</td>\n",
       "      <td>45701</td>\n",
       "      <td>OH</td>\n",
       "    </tr>\n",
       "  </tbody>\n",
       "</table>\n",
       "</div>"
      ],
      "text/plain": [
       "                 address                    city country  latitude  longitude  \\\n",
       "0            324 Main St                 Massena      US  44.92130  -74.89021   \n",
       "1        530 Clinton Ave  Washington Court House      US  39.53255  -83.44526   \n",
       "2   408 Market Square Dr               Maysville      US  38.62736  -83.79141   \n",
       "3  6098 State Highway 37                 Massena      US  44.95008  -74.84553   \n",
       "4        139 Columbus Rd                  Athens      US  39.35155  -82.09728   \n",
       "\n",
       "               name postalCode province  \n",
       "0        McDonald's      13662       NY  \n",
       "1           Wendy's      43160       OH  \n",
       "2  Frisch's Big Boy      41056       KY  \n",
       "3        McDonald's      13662       NY  \n",
       "4   OMG! Rotisserie      45701       OH  "
      ]
     },
     "execution_count": 21,
     "metadata": {},
     "output_type": "execute_result"
    }
   ],
   "source": [
    "restaurant_data_new.drop(['keys','websites'], axis = 1,inplace = True)  # Dropping keys and websites columns\n",
    "restaurant_data_new.head()"
   ]
  },
  {
   "cell_type": "markdown",
   "metadata": {},
   "source": [
    "#### No. of unique values of Restaurant names"
   ]
  },
  {
   "cell_type": "code",
   "execution_count": 22,
   "metadata": {},
   "outputs": [
    {
     "data": {
      "text/plain": [
       "McDonald's                               1886\n",
       "Burger King                              1154\n",
       "Taco Bell                                 873\n",
       "Wendy's                                   731\n",
       "Arby's                                    518\n",
       "KFC                                       421\n",
       "Domino's Pizza                            345\n",
       "Subway                                    322\n",
       "SONIC Drive In                            226\n",
       "Hardee's                                  192\n",
       "Jack in the Box                           187\n",
       "Jimmy John's                              157\n",
       "Pizza Hut                                 128\n",
       "Bojangles' Famous Chicken 'n Biscuits     126\n",
       "Sonic Drive-In                            126\n",
       "McDonalds                                 111\n",
       "Chick-fil-A                               100\n",
       "Five Guys                                  96\n",
       "Dairy Queen                                92\n",
       "Whataburger                                88\n",
       "Mcdonald's                                 85\n",
       "SUBWAY                                     82\n",
       "Taco John's                                77\n",
       "Carl's Jr.                                 74\n",
       "Waffle House                               74\n",
       "Krystal                                    64\n",
       "White Castle                               54\n",
       "Checkers                                   46\n",
       "Boston Market                              45\n",
       "Del Taco                                   44\n",
       "                                         ... \n",
       "Long John Silver's / A&W                    1\n",
       "Garden Catering                             1\n",
       "Kam's Chop Suey                             1\n",
       "Bb&t                                        1\n",
       "Chicago Union Station Food Court            1\n",
       "Pick Up Stix                                1\n",
       "7-Eleven                                    1\n",
       "Gianni's Pizza                              1\n",
       "El Paragua Restaurant                       1\n",
       "Sonic Drive-in (trailer)                    1\n",
       "Carl's Jr - Green Burrito                   1\n",
       "Roly Poly                                   1\n",
       "Aprisa Mexican Cuisine                      1\n",
       "Hometown Buffet                             1\n",
       "Foster's Freeze                             1\n",
       "Strongwater Spirits & Botanicals            1\n",
       "Mariu Kebabberia Gastronomica               1\n",
       "Smoothie King                               1\n",
       "Richie's Restaurant                         1\n",
       "Rich's Mighty Fine Burgers Grub             1\n",
       "Cafe Rio                                    1\n",
       "Charkies                                    1\n",
       "Sensenig Poultry LLC                        1\n",
       "China King                                  1\n",
       "McLaren's Pantry                            1\n",
       "Chris' Drive-In                             1\n",
       "Kettle Restaurant                           1\n",
       "Steak-out                                   1\n",
       "Taco Casa                                   1\n",
       "J J Fish and Chicken                        1\n",
       "Name: name, Length: 548, dtype: int64"
      ]
     },
     "execution_count": 22,
     "metadata": {},
     "output_type": "execute_result"
    }
   ],
   "source": [
    "restaurant_data_new.name.value_counts()    #No. of unique values of Restaurant names"
   ]
  },
  {
   "cell_type": "markdown",
   "metadata": {},
   "source": [
    "#### Convert name to lower case to make uniform names"
   ]
  },
  {
   "cell_type": "code",
   "execution_count": 23,
   "metadata": {},
   "outputs": [
    {
     "data": {
      "text/html": [
       "<div>\n",
       "<style>\n",
       "    .dataframe thead tr:only-child th {\n",
       "        text-align: right;\n",
       "    }\n",
       "\n",
       "    .dataframe thead th {\n",
       "        text-align: left;\n",
       "    }\n",
       "\n",
       "    .dataframe tbody tr th {\n",
       "        vertical-align: top;\n",
       "    }\n",
       "</style>\n",
       "<table border=\"1\" class=\"dataframe\">\n",
       "  <thead>\n",
       "    <tr style=\"text-align: right;\">\n",
       "      <th></th>\n",
       "      <th>address</th>\n",
       "      <th>city</th>\n",
       "      <th>country</th>\n",
       "      <th>latitude</th>\n",
       "      <th>longitude</th>\n",
       "      <th>name</th>\n",
       "      <th>postalCode</th>\n",
       "      <th>province</th>\n",
       "    </tr>\n",
       "  </thead>\n",
       "  <tbody>\n",
       "    <tr>\n",
       "      <th>0</th>\n",
       "      <td>324 Main St</td>\n",
       "      <td>Massena</td>\n",
       "      <td>US</td>\n",
       "      <td>44.92130</td>\n",
       "      <td>-74.89021</td>\n",
       "      <td>mcdonald's</td>\n",
       "      <td>13662</td>\n",
       "      <td>NY</td>\n",
       "    </tr>\n",
       "    <tr>\n",
       "      <th>1</th>\n",
       "      <td>530 Clinton Ave</td>\n",
       "      <td>Washington Court House</td>\n",
       "      <td>US</td>\n",
       "      <td>39.53255</td>\n",
       "      <td>-83.44526</td>\n",
       "      <td>wendy's</td>\n",
       "      <td>43160</td>\n",
       "      <td>OH</td>\n",
       "    </tr>\n",
       "    <tr>\n",
       "      <th>2</th>\n",
       "      <td>408 Market Square Dr</td>\n",
       "      <td>Maysville</td>\n",
       "      <td>US</td>\n",
       "      <td>38.62736</td>\n",
       "      <td>-83.79141</td>\n",
       "      <td>frisch's big boy</td>\n",
       "      <td>41056</td>\n",
       "      <td>KY</td>\n",
       "    </tr>\n",
       "    <tr>\n",
       "      <th>3</th>\n",
       "      <td>6098 State Highway 37</td>\n",
       "      <td>Massena</td>\n",
       "      <td>US</td>\n",
       "      <td>44.95008</td>\n",
       "      <td>-74.84553</td>\n",
       "      <td>mcdonald's</td>\n",
       "      <td>13662</td>\n",
       "      <td>NY</td>\n",
       "    </tr>\n",
       "    <tr>\n",
       "      <th>4</th>\n",
       "      <td>139 Columbus Rd</td>\n",
       "      <td>Athens</td>\n",
       "      <td>US</td>\n",
       "      <td>39.35155</td>\n",
       "      <td>-82.09728</td>\n",
       "      <td>omg! rotisserie</td>\n",
       "      <td>45701</td>\n",
       "      <td>OH</td>\n",
       "    </tr>\n",
       "  </tbody>\n",
       "</table>\n",
       "</div>"
      ],
      "text/plain": [
       "                 address                    city country  latitude  longitude  \\\n",
       "0            324 Main St                 Massena      US  44.92130  -74.89021   \n",
       "1        530 Clinton Ave  Washington Court House      US  39.53255  -83.44526   \n",
       "2   408 Market Square Dr               Maysville      US  38.62736  -83.79141   \n",
       "3  6098 State Highway 37                 Massena      US  44.95008  -74.84553   \n",
       "4        139 Columbus Rd                  Athens      US  39.35155  -82.09728   \n",
       "\n",
       "               name postalCode province  \n",
       "0        mcdonald's      13662       NY  \n",
       "1           wendy's      43160       OH  \n",
       "2  frisch's big boy      41056       KY  \n",
       "3        mcdonald's      13662       NY  \n",
       "4   omg! rotisserie      45701       OH  "
      ]
     },
     "execution_count": 23,
     "metadata": {},
     "output_type": "execute_result"
    }
   ],
   "source": [
    "#Convert name to lower case\n",
    "restaurant_data_new['name'] = restaurant_data_new.name.apply(lambda x : x.lower())\n",
    "restaurant_data_new.head()"
   ]
  },
  {
   "cell_type": "markdown",
   "metadata": {},
   "source": [
    "#### Remove punctuation from name"
   ]
  },
  {
   "cell_type": "code",
   "execution_count": 24,
   "metadata": {},
   "outputs": [
    {
     "data": {
      "text/html": [
       "<div>\n",
       "<style>\n",
       "    .dataframe thead tr:only-child th {\n",
       "        text-align: right;\n",
       "    }\n",
       "\n",
       "    .dataframe thead th {\n",
       "        text-align: left;\n",
       "    }\n",
       "\n",
       "    .dataframe tbody tr th {\n",
       "        vertical-align: top;\n",
       "    }\n",
       "</style>\n",
       "<table border=\"1\" class=\"dataframe\">\n",
       "  <thead>\n",
       "    <tr style=\"text-align: right;\">\n",
       "      <th></th>\n",
       "      <th>address</th>\n",
       "      <th>city</th>\n",
       "      <th>country</th>\n",
       "      <th>latitude</th>\n",
       "      <th>longitude</th>\n",
       "      <th>name</th>\n",
       "      <th>postalCode</th>\n",
       "      <th>province</th>\n",
       "    </tr>\n",
       "  </thead>\n",
       "  <tbody>\n",
       "    <tr>\n",
       "      <th>0</th>\n",
       "      <td>324 Main St</td>\n",
       "      <td>Massena</td>\n",
       "      <td>US</td>\n",
       "      <td>44.92130</td>\n",
       "      <td>-74.89021</td>\n",
       "      <td>mcdonalds</td>\n",
       "      <td>13662</td>\n",
       "      <td>NY</td>\n",
       "    </tr>\n",
       "    <tr>\n",
       "      <th>1</th>\n",
       "      <td>530 Clinton Ave</td>\n",
       "      <td>Washington Court House</td>\n",
       "      <td>US</td>\n",
       "      <td>39.53255</td>\n",
       "      <td>-83.44526</td>\n",
       "      <td>wendys</td>\n",
       "      <td>43160</td>\n",
       "      <td>OH</td>\n",
       "    </tr>\n",
       "    <tr>\n",
       "      <th>2</th>\n",
       "      <td>408 Market Square Dr</td>\n",
       "      <td>Maysville</td>\n",
       "      <td>US</td>\n",
       "      <td>38.62736</td>\n",
       "      <td>-83.79141</td>\n",
       "      <td>frischs big boy</td>\n",
       "      <td>41056</td>\n",
       "      <td>KY</td>\n",
       "    </tr>\n",
       "    <tr>\n",
       "      <th>3</th>\n",
       "      <td>6098 State Highway 37</td>\n",
       "      <td>Massena</td>\n",
       "      <td>US</td>\n",
       "      <td>44.95008</td>\n",
       "      <td>-74.84553</td>\n",
       "      <td>mcdonalds</td>\n",
       "      <td>13662</td>\n",
       "      <td>NY</td>\n",
       "    </tr>\n",
       "    <tr>\n",
       "      <th>4</th>\n",
       "      <td>139 Columbus Rd</td>\n",
       "      <td>Athens</td>\n",
       "      <td>US</td>\n",
       "      <td>39.35155</td>\n",
       "      <td>-82.09728</td>\n",
       "      <td>omg rotisserie</td>\n",
       "      <td>45701</td>\n",
       "      <td>OH</td>\n",
       "    </tr>\n",
       "  </tbody>\n",
       "</table>\n",
       "</div>"
      ],
      "text/plain": [
       "                 address                    city country  latitude  longitude  \\\n",
       "0            324 Main St                 Massena      US  44.92130  -74.89021   \n",
       "1        530 Clinton Ave  Washington Court House      US  39.53255  -83.44526   \n",
       "2   408 Market Square Dr               Maysville      US  38.62736  -83.79141   \n",
       "3  6098 State Highway 37                 Massena      US  44.95008  -74.84553   \n",
       "4        139 Columbus Rd                  Athens      US  39.35155  -82.09728   \n",
       "\n",
       "              name postalCode province  \n",
       "0        mcdonalds      13662       NY  \n",
       "1           wendys      43160       OH  \n",
       "2  frischs big boy      41056       KY  \n",
       "3        mcdonalds      13662       NY  \n",
       "4   omg rotisserie      45701       OH  "
      ]
     },
     "execution_count": 24,
     "metadata": {},
     "output_type": "execute_result"
    }
   ],
   "source": [
    "#Remove punctuation from name\n",
    "restaurant_data_new.name = restaurant_data_new.name.apply(lambda x:''.join([i for i in x \n",
    "                            if i not in string.punctuation]))\n",
    "restaurant_data_new.head()"
   ]
  },
  {
   "cell_type": "markdown",
   "metadata": {},
   "source": [
    "### Observation:\n",
    "\n",
    "- As the __name__ column consists of different restaurants resides in __United States__, we can observe that restaurants name is \n",
    "  misspelled while collecting the data.   \n",
    "\n",
    "- We have corrected the misspelled restaurants name with __string punctuation__ function into only 1 format for our further  \n",
    "  analysis."
   ]
  },
  {
   "cell_type": "code",
   "execution_count": 25,
   "metadata": {},
   "outputs": [
    {
     "data": {
      "text/plain": [
       "mcdonalds                                           2105\n",
       "burger king                                         1154\n",
       "taco bell                                            873\n",
       "wendys                                               734\n",
       "arbys                                                520\n",
       "kfc                                                  441\n",
       "subway                                               404\n",
       "dominos pizza                                        359\n",
       "sonic drive in                                       248\n",
       "jack in the box                                      201\n",
       "hardees                                              194\n",
       "jimmy johns                                          163\n",
       "chickfila                                            146\n",
       "sonic drivein                                        138\n",
       "pizza hut                                            128\n",
       "bojangles famous chicken n biscuits                  126\n",
       "five guys                                             96\n",
       "dairy queen                                           92\n",
       "whataburger                                           88\n",
       "carls jr                                              85\n",
       "taco johns                                            77\n",
       "waffle house                                          74\n",
       "krystal                                               64\n",
       "white castle                                          54\n",
       "checkers                                              48\n",
       "boston market                                         45\n",
       "del taco                                              44\n",
       "quiznos                                               42\n",
       "culvers                                               39\n",
       "long john silvers                                     38\n",
       "                                                    ... \n",
       "hometown buffet                                        1\n",
       "kfc  aw                                                1\n",
       "the pita pit                                           1\n",
       "bbt                                                    1\n",
       "lennys sub shop                                        1\n",
       "cousins subs of green bay  oneida st  ramada way       1\n",
       "tommys sub shop                                        1\n",
       "the agora                                              1\n",
       "royal buffet                                           1\n",
       "lime ricky world                                       1\n",
       "hungry andys                                           1\n",
       "bad daddys burger bar                                  1\n",
       "cars late night delivery                               1\n",
       "marios natural roman pizza                             1\n",
       "petes burgers                                          1\n",
       "tasty carryout                                         1\n",
       "jamba juice                                            1\n",
       "dairy isle                                             1\n",
       "meatheads                                              1\n",
       "stars drivein                                          1\n",
       "luxor food court                                       1\n",
       "ball state lafollette dining                           1\n",
       "subway guitars                                         1\n",
       "the break away sports cafe                             1\n",
       "fitness 19                                             1\n",
       "regal cinemas tikahtnu  16 imax  rpx                   1\n",
       "gyros kings                                            1\n",
       "braums ice cream  dairy store                          1\n",
       "marias fry bread  mexican food                         1\n",
       "p terrys                                               1\n",
       "Name: name, Length: 490, dtype: int64"
      ]
     },
     "execution_count": 25,
     "metadata": {},
     "output_type": "execute_result"
    }
   ],
   "source": [
    "restaurant_data_new.name.value_counts() #Restaurant names value counts are updated post conevrting all names to lower and removing punctuation "
   ]
  },
  {
   "cell_type": "code",
   "execution_count": 26,
   "metadata": {},
   "outputs": [
    {
     "data": {
      "text/plain": [
       "array(['mcdonalds', 'wendys', 'frischs big boy', 'omg rotisserie',\n",
       "       'dominos pizza', 'pizza hut', 'sonic drive in', 'long john silvers',\n",
       "       'taco bell', 'qdoba mexican grill', 'sonic drivein', 'taco johns',\n",
       "       'whataburger', 'hamburger king', 'burger king', 'taco time',\n",
       "       'jimmy johns', 'jersey mikes subs', 'popeyes louisiana kitchen',\n",
       "       'hardees', 'rallys', 'quiznos', 'jack in the box', 'subway',\n",
       "       'mr hero', 'amigoskings classic', 'raising canes chicken fingers',\n",
       "       'coop deville', 'b good', 'back yard burgers', 'arbys',\n",
       "       'pacific rim', 'panda express', 'chickfila', 'captain ds',\n",
       "       'samurai sams', 'northeastern state university', 'sarku japan',\n",
       "       'five guys', 'pei wei', 'krystal', 'baja fresh',\n",
       "       'bojangles famous chicken n biscuits', 'pollo tropical',\n",
       "       'waffle house', 'popeyes chicken  biscuits', 'checkers',\n",
       "       'integrated therapy specialists arnold d larson', 'kfc',\n",
       "       'dairy queen', 'penguin point', 'goodcents deli fresh subs',\n",
       "       'white castle', 'culvers', 'churchs chicken', 'kfc  taco bell',\n",
       "       'jacks grocery', 'chipotle mexican grill', 'subway®',\n",
       "       'ernies all american burger', 'windmill gourmet fast foods',\n",
       "       'bgood', 'boston market', 'dunkin donuts',\n",
       "       'moes original bar b que', 'penn station east coast subs',\n",
       "       'carls jr', 'cook out', 'innout burger', 'del taco',\n",
       "       'nicks burgers', 'bakers drive thru', 'mc donalds',\n",
       "       'mickeys gyros  ribs', 'sensenig poultry llc', 'frugals',\n",
       "       'seaside eatery', 'fazolis', 'wetzels pretzels', 'ryans',\n",
       "       'steak n shake', 'grannys drivein', 'jollys drivein', 'blondies',\n",
       "       'great steak', 'sonic', 'lees famous recipe chicken',\n",
       "       'little caesars pizza', 'dairy freeze', 'qdoba mexican eats',\n",
       "       'lime ricky world', 'taco mayo', 'awlong john silvers',\n",
       "       'pick up stix', 'dairy cheer', 'fallguys burger company',\n",
       "       'golden chick', 'mclarens pantry', 'red robin gourmet burgers',\n",
       "       'buds chicken  seafood', 'sconecutter', 'zips hamburgers and fish',\n",
       "       'rushs', 'el pollo loco', 'gold star chili', 'moes southwest grill',\n",
       "       'popeyes chicken and biscuits', 'pizza barn', 'taco casa',\n",
       "       'taco bueno', 'toms drive in', 'tudors biscuit world',\n",
       "       'kasas pizza', 'skyline chili', 'deweys pizza',\n",
       "       'custard hut  pizza', 'papa johns pizza', 'tacotime',\n",
       "       'blakes lotaburger', 'panera bread', 'cookout',\n",
       "       'georges gyros spot', 'el paragua restaurant', 'captain ds seafood',\n",
       "       'burger time', 'chicken express', 'kfc  kentucky fried chicken',\n",
       "       'cherry hill drive in ice cream', 'flip burger bar', 'greyhound',\n",
       "       'noodles  company', 'pals sudden service', 'arctic circle',\n",
       "       'bob evans', 'don  millies', 'old country buffet',\n",
       "       'tommys sub shop', 'roy rogers', 'big  littles restaurant',\n",
       "       'cafe rio', 'chargrill', 'crispy chicken  seafood', 'toppers pizza',\n",
       "       'lions choice', 'kum  go', 'taco delight', 'kennys drivein',\n",
       "       'pita pit', 'mooyah burgers fries  shakes', 'the pita pit',\n",
       "       'slim chickens', 'shot tower inn', 'handys lunch', 'meatheads',\n",
       "       'aw restaurant', 'jack pirtles chicken', 'dairy isle',\n",
       "       'hardees  red burrito', 'runza', 'shoneys on the go',\n",
       "       'richies restaurant', 'yellow cab pizza co', 'jacks',\n",
       "       'rallys hamburgers', 'ranchers roast beef inc', 'pizza factory',\n",
       "       'inatub', 'crystal restaurant', 'burgers landing',\n",
       "       'isabellas pizzeria', 'fatburger', 'sunrise cafe',\n",
       "       'round table pizza', 'capt crabs takeaway', 'ben  jerrys',\n",
       "       'auntie annes', 'baskinrobbins', '31st avenue gyro', 'au bon pain',\n",
       "       'saladworks', 'baja fresh mexican grill', 'papa johns',\n",
       "       'good times burgers  frozen custard', 'johnny rockets', 'wingstop',\n",
       "       'lubys', 'mayfair boardwalk grill', 'ninos pizza',\n",
       "       'marias fry bread  mexican food', 'taco del mar', 'wingstreet',\n",
       "       'charleys philly steaks', 'papa john’s pizza', 'nicks gyros',\n",
       "       'southaphilly steaks and hoagies', 'dq grill  chill  orange julius',\n",
       "       'lennys sub shop', 'popeyes', 'taco local', 'stars drivein',\n",
       "       'firehouse subs', 'original tracks', 'thrashers french fries',\n",
       "       'subway citgo of quarryville', 'fuku', 'capriottis sandwich shop',\n",
       "       'eldon drive in', 'petros chili  chips', 'the halal guys',\n",
       "       'ny chicken fish', 'thunder ridge ampride', 'twisters',\n",
       "       'tasty carryout', 'hub city express', 'shloma inc', 'bravo tacos',\n",
       "       'papagus gyros', 'dq grill  chill', 'taqueria',\n",
       "       'a  w family restaurant', 'los verdes', 'taco cabana',\n",
       "       'bad daddys burger bar', 'ajs hotdogs  gyros',\n",
       "       'rubios coastal grill', 'papa ginos', 'cusinera',\n",
       "       'st louis original hamburgers', 'circle drive in',\n",
       "       'woodys sloppy dogs', 'kum go', 'jcws', 'the people connection',\n",
       "       'hot dog heaven', 'the great steak  potato co', 'jims coney island',\n",
       "       'charcoal delights', 'sheetz', 'mcdonalds  old atlanta',\n",
       "       'hungry andys', 'port of subs', 'hot dog on a stick',\n",
       "       'carls  green burrito', 'wus fine chinese cuisine', 'kfctaco bell',\n",
       "       'steakout', 'wings n more wings', 'p terrys',\n",
       "       'j j fish and chicken', 'aw', 'kentucky fried chicken',\n",
       "       'greek oven pizza and wings', 'wienerschnitzel', 'city bites',\n",
       "       'smoothie king', 'bobbys burger palace', 'smashburger',\n",
       "       'hometown buffet', 'dairy queen grill  chill',\n",
       "       'the biscuit factory', 'subway johnson  jonesboro', 'china king',\n",
       "       'stripes store 2276', 'hotdoks', 'aw allamerican food',\n",
       "       'shepards drivein', 'mcdonalds of mililani mauka',\n",
       "       'mariu kebabberia gastronomica', 'tropical smoothie cafe',\n",
       "       'freds store', 'bamboo bistro', 'raising canes', 'locol', 'quick',\n",
       "       'backyard burgers', 'jim bobs chicken fingers',\n",
       "       'islands restaurant', 'charlies chicken', 'famous daves',\n",
       "       'dawg house grill', 'carls jr  green burrito',\n",
       "       'jimmy johns gourmet sandwiches', 'the agora', 'codys cafe',\n",
       "       'mcdonalds  walmart', 'mcalisters deli', 'bbt',\n",
       "       'flash foods  mcdonalds', 'b z breakfast burgers beyond',\n",
       "       'farmer boys', 'milos hamburgers', 'wings and philly',\n",
       "       'aw all american food', 'nathans famous', 'giannis pizza',\n",
       "       'richs mighty fine burgers grub', 'bob evans restaurant',\n",
       "       'spangles', 'chuck wagon', 'chicken house', 'dinos gyros', 'jamjam',\n",
       "       'fab wings n burgers', 'pizza one', 'the chicken place',\n",
       "       'chickfila superstition springs center', 'pollo campero',\n",
       "       'rahway chicken  burger inc', 'sbarro', 'the pizza pipe line',\n",
       "       'omega drivein', 'china buddha inn ii', 'genos fast break',\n",
       "       'jersey jacks eatery', 'hardees  red burrito  dough boys',\n",
       "       'kettle restaurant', 'hoka hoka bento', 'iceberg drive inn',\n",
       "       'regal cinemas tikahtnu  16 imax  rpx',\n",
       "       'marios natural roman pizza', 'music city subs',\n",
       "       'chickfila orange avenue', 'gyros kings', 'mcdonald’s',\n",
       "       'einstein bros bagels', 'blimpie', 'aw allamerican foods',\n",
       "       'sammy carryout', 'redbox', 'little caesars pizza smithfield',\n",
       "       'checkers burgers and fries', 'kerbys koney island',\n",
       "       'll hawaiian barbecue', 'braums ice cream  dairy store',\n",
       "       'tellers tap room  kitchen', 'arbys antigo', 'furrs',\n",
       "       'subway sandwiches and salads', 'bills place', 'burger king salou',\n",
       "       'shoprite', 'wendy two two eight', 'braums', 'boston market 381',\n",
       "       'great steak  potato co', 'blimpie subs  sandwiches',\n",
       "       'mr charburger', 'yum brands inc', 'ama ristorante',\n",
       "       'popeyes chicken', 'the honeybaked ham company', 'snack shack',\n",
       "       'boston chowda company', 'long john silvers  aw',\n",
       "       'aprisa mexican cuisine', 'white manna hamburgers', 'food 4 less',\n",
       "       'starbucks', 'brixtons', 'dairy queen  round rock', 'peking wok',\n",
       "       'panda', 'popanugget', 'roly poly', 'kfc  aw',\n",
       "       'subway  roland park', 'garden catering', 'fosters freeze',\n",
       "       'rapid rays', 'portillos', 'vista drive in', 'toms grill',\n",
       "       'yoshinoya', 'subway  bells ferry', 'pizza hut wingstreet',\n",
       "       'travelcenters of america', 'dangelo grilled sandwiches',\n",
       "       'fitness 19', 'royal buffet', 'cousins subs',\n",
       "       'lanesplitter pizza  pub', 'world wrapps', 'hunam garden',\n",
       "       'soulfish grill', 'kams chop suey', 'zitis italian express',\n",
       "       'rallys springfield', 'subway sandwiches', 'home town buffet',\n",
       "       'checkers drivein restaurant', 'grandys', 'maui tacos',\n",
       "       'checkers hamburgers', 'rafaels', 'crown fried chicken',\n",
       "       'garden fast food', 'froots', 'luxor food court', 'subway guitars',\n",
       "       'loves', 'cypress best', 'siam to go', 'bushs chicken',\n",
       "       'chickfila truetts luau', 'strongwater spirits  botanicals',\n",
       "       'the break away sports cafe', 'charleys grilled subs',\n",
       "       'mcdonalds 25557', 'rockys', 'chesters grill', '711', 'zaxbys',\n",
       "       'osgoods', 'dans seafood  chicken', 'jasons deli',\n",
       "       'breadeaux pizza', 'sonic drivein trailer', 'steak escape',\n",
       "       '7eleven', 'jollibee', 'kennedy fried chicken  pizza',\n",
       "       'mocha express', 'taco bellpizza hut express', 'schlotzskys',\n",
       "       'charlie browns', 'ball state lafollette dining',\n",
       "       'tubbys grilled submarines', 'quiznos ', 'comilao lanches bakery',\n",
       "       'gabbys burgers  fries', 'loco moco driveinn', 'pizza express',\n",
       "       'alices', 'king grill', 'freddys steakburger',\n",
       "       'cousins subs of green bay  oneida st  ramada way', 'everest',\n",
       "       'jamba juice', 'quiznos sub', 'exxon', 'bgr  the burger joint',\n",
       "       'chickfila magnolia mall', 'tom  jerrys', 'ivars seafood bar',\n",
       "       'luna corner pizza', 'scoopers', 'eagans drivein', 'omelette house',\n",
       "       'hermosa', 'costa vida fresh mexican grill',\n",
       "       'simmies arirang hill cheese steak', 'chris drivein',\n",
       "       'the flame broiler', 'dq woodlands', 'rubios', 'burgerville',\n",
       "       'lukes on harlem', 'madison street subs', 'fresh city', 'dentons',\n",
       "       'teddys bigger burgers', 'dairy queen grill  chill  orange julius',\n",
       "       'elevation burger', 'your healthy habit',\n",
       "       'mazatlan mexican restaurant', 'kim lee fast food', 'cinnabon',\n",
       "       'china king restaurant', 'chickenow',\n",
       "       'chicago union station food court', 'paesanos', 'b k',\n",
       "       'pizza primetime', 'convergence zone', 'the press club',\n",
       "       'costa vida', 'hegenburgers', 'petes burgers',\n",
       "       'dual  carls  grn burrito 1100654', 'kings contrivance jewelers',\n",
       "       'great steak and potato co', 'nielsens frozen custard',\n",
       "       'tinas carryout restaurant', 'long john silver aw',\n",
       "       'cars late night delivery', 'charkies', 'el tarasco mexican food',\n",
       "       'burgerville usa', 'italian pizzeria restaurant',\n",
       "       'lees oriental martial arts'], dtype=object)"
      ]
     },
     "execution_count": 26,
     "metadata": {},
     "output_type": "execute_result"
    }
   ],
   "source": [
    "restaurant_data_new.name.unique()"
   ]
  },
  {
   "cell_type": "markdown",
   "metadata": {},
   "source": [
    "#### Cleaning 'name' values"
   ]
  },
  {
   "cell_type": "code",
   "execution_count": 27,
   "metadata": {},
   "outputs": [
    {
     "name": "stdout",
     "output_type": "stream",
     "text": [
      "mc donalds  is replaced with mcdonalds\n",
      "mc donalds  is replaced with mcdonalds\n",
      "mc donalds  is replaced with mcdonalds\n",
      "mcdonalds  old atlanta  is replaced with mcdonalds\n",
      "mc donalds  is replaced with mcdonalds\n",
      "mcdonalds of mililani mauka  is replaced with mcdonalds\n",
      "mc donalds  is replaced with mcdonalds\n",
      "mcdonalds  walmart  is replaced with mcdonalds\n",
      "mc donalds  is replaced with mcdonalds\n",
      "flash foods  mcdonalds  is replaced with mcdonalds\n",
      "mcdonald’s  is replaced with mcdonalds\n",
      "mc donalds  is replaced with mcdonalds\n",
      "mc donalds  is replaced with mcdonalds\n",
      "mcdonalds 25557  is replaced with mcdonalds\n",
      "mc donalds  is replaced with mcdonalds\n",
      "mc donalds  is replaced with mcdonalds\n",
      "wendy two two eight  is replaced with wendys\n",
      "sonic drivein  is replaced with sonic drive in\n",
      "sonic drivein  is replaced with sonic drive in\n",
      "sonic drivein  is replaced with sonic drive in\n",
      "sonic drivein  is replaced with sonic drive in\n",
      "sonic drivein  is replaced with sonic drive in\n",
      "sonic drivein  is replaced with sonic drive in\n",
      "sonic drivein  is replaced with sonic drive in\n",
      "sonic drivein  is replaced with sonic drive in\n",
      "sonic drivein  is replaced with sonic drive in\n",
      "sonic drivein  is replaced with sonic drive in\n",
      "sonic drivein  is replaced with sonic drive in\n",
      "sonic drivein  is replaced with sonic drive in\n",
      "sonic drivein  is replaced with sonic drive in\n",
      "sonic drivein  is replaced with sonic drive in\n",
      "sonic drivein  is replaced with sonic drive in\n",
      "sonic drivein  is replaced with sonic drive in\n",
      "sonic drivein  is replaced with sonic drive in\n",
      "sonic drivein  is replaced with sonic drive in\n",
      "sonic drivein  is replaced with sonic drive in\n",
      "sonic drivein  is replaced with sonic drive in\n",
      "sonic drivein  is replaced with sonic drive in\n",
      "sonic drivein  is replaced with sonic drive in\n",
      "sonic drivein  is replaced with sonic drive in\n",
      "sonic drivein  is replaced with sonic drive in\n",
      "sonic drivein  is replaced with sonic drive in\n",
      "sonic drivein  is replaced with sonic drive in\n",
      "sonic drivein  is replaced with sonic drive in\n",
      "sonic drivein  is replaced with sonic drive in\n",
      "sonic drivein  is replaced with sonic drive in\n",
      "sonic drivein  is replaced with sonic drive in\n",
      "sonic drivein  is replaced with sonic drive in\n",
      "sonic drivein  is replaced with sonic drive in\n",
      "sonic drivein  is replaced with sonic drive in\n",
      "sonic drivein  is replaced with sonic drive in\n",
      "sonic drivein  is replaced with sonic drive in\n",
      "sonic drivein  is replaced with sonic drive in\n",
      "sonic drivein  is replaced with sonic drive in\n",
      "sonic drivein  is replaced with sonic drive in\n",
      "sonic drivein  is replaced with sonic drive in\n",
      "sonic drivein  is replaced with sonic drive in\n",
      "sonic drivein  is replaced with sonic drive in\n",
      "sonic drivein  is replaced with sonic drive in\n",
      "sonic drivein  is replaced with sonic drive in\n",
      "sonic drivein  is replaced with sonic drive in\n",
      "sonic drivein  is replaced with sonic drive in\n",
      "sonic drivein  is replaced with sonic drive in\n",
      "sonic drivein  is replaced with sonic drive in\n",
      "sonic drivein  is replaced with sonic drive in\n",
      "sonic drivein  is replaced with sonic drive in\n",
      "sonic drivein  is replaced with sonic drive in\n",
      "sonic drivein  is replaced with sonic drive in\n",
      "sonic drivein  is replaced with sonic drive in\n",
      "sonic drivein  is replaced with sonic drive in\n",
      "sonic drivein  is replaced with sonic drive in\n",
      "sonic drivein  is replaced with sonic drive in\n",
      "sonic drivein  is replaced with sonic drive in\n",
      "sonic drivein  is replaced with sonic drive in\n",
      "sonic drivein  is replaced with sonic drive in\n",
      "sonic drivein  is replaced with sonic drive in\n",
      "sonic drivein  is replaced with sonic drive in\n",
      "sonic drivein  is replaced with sonic drive in\n",
      "sonic drivein  is replaced with sonic drive in\n",
      "sonic drivein  is replaced with sonic drive in\n",
      "sonic drivein  is replaced with sonic drive in\n",
      "sonic drivein  is replaced with sonic drive in\n",
      "sonic drivein  is replaced with sonic drive in\n",
      "sonic drivein  is replaced with sonic drive in\n",
      "sonic drivein  is replaced with sonic drive in\n",
      "sonic drivein  is replaced with sonic drive in\n",
      "sonic drivein  is replaced with sonic drive in\n",
      "sonic drivein  is replaced with sonic drive in\n",
      "sonic drivein  is replaced with sonic drive in\n",
      "sonic drivein  is replaced with sonic drive in\n",
      "sonic drivein  is replaced with sonic drive in\n",
      "sonic drivein  is replaced with sonic drive in\n",
      "sonic drivein  is replaced with sonic drive in\n",
      "sonic drivein  is replaced with sonic drive in\n",
      "sonic drivein  is replaced with sonic drive in\n",
      "sonic drivein  is replaced with sonic drive in\n",
      "sonic drivein  is replaced with sonic drive in\n",
      "sonic drivein  is replaced with sonic drive in\n",
      "sonic drivein  is replaced with sonic drive in\n",
      "sonic drivein  is replaced with sonic drive in\n",
      "sonic drivein  is replaced with sonic drive in\n",
      "sonic drivein  is replaced with sonic drive in\n",
      "sonic drivein  is replaced with sonic drive in\n",
      "sonic drivein  is replaced with sonic drive in\n",
      "sonic drivein  is replaced with sonic drive in\n",
      "sonic drivein  is replaced with sonic drive in\n",
      "sonic drivein  is replaced with sonic drive in\n",
      "sonic drivein  is replaced with sonic drive in\n",
      "sonic drivein  is replaced with sonic drive in\n",
      "sonic drivein  is replaced with sonic drive in\n",
      "sonic drivein  is replaced with sonic drive in\n",
      "sonic drivein  is replaced with sonic drive in\n",
      "sonic drivein  is replaced with sonic drive in\n",
      "sonic drivein  is replaced with sonic drive in\n",
      "sonic drivein  is replaced with sonic drive in\n",
      "sonic drivein  is replaced with sonic drive in\n",
      "sonic drivein  is replaced with sonic drive in\n",
      "sonic drivein  is replaced with sonic drive in\n",
      "sonic drivein  is replaced with sonic drive in\n",
      "sonic drivein  is replaced with sonic drive in\n",
      "sonic drivein  is replaced with sonic drive in\n",
      "sonic drivein  is replaced with sonic drive in\n",
      "sonic drivein  is replaced with sonic drive in\n",
      "sonic drivein  is replaced with sonic drive in\n",
      "sonic drivein  is replaced with sonic drive in\n",
      "sonic drivein  is replaced with sonic drive in\n",
      "sonic drivein  is replaced with sonic drive in\n",
      "sonic drivein  is replaced with sonic drive in\n",
      "sonic drivein  is replaced with sonic drive in\n",
      "sonic drivein  is replaced with sonic drive in\n",
      "sonic drivein  is replaced with sonic drive in\n",
      "sonic drivein  is replaced with sonic drive in\n",
      "sonic drivein  is replaced with sonic drive in\n",
      "sonic drivein  is replaced with sonic drive in\n",
      "sonic drivein  is replaced with sonic drive in\n",
      "sonic drivein  is replaced with sonic drive in\n",
      "sonic drivein trailer  is replaced with sonic drive in\n",
      "sonic drivein  is replaced with sonic drive in\n",
      "sonic drivein  is replaced with sonic drive in\n",
      "sonic drivein  is replaced with sonic drive in\n",
      "sonic drivein  is replaced with sonic drive in\n",
      "sonic drivein  is replaced with sonic drive in\n",
      "sonic drivein  is replaced with sonic drive in\n",
      "sonic drivein  is replaced with sonic drive in\n",
      "sonic drivein  is replaced with sonic drive in\n",
      "sonic drivein  is replaced with sonic drive in\n",
      "sonic drivein  is replaced with sonic drive in\n",
      "sonic drivein  is replaced with sonic drive in\n",
      "sonic drivein  is replaced with sonic drive in\n",
      "sonic drivein  is replaced with sonic drive in\n",
      "sonic drivein  is replaced with sonic drive in\n",
      "sonic drivein  is replaced with sonic drive in\n",
      "sonic drivein  is replaced with sonic drive in\n",
      "sonic drivein  is replaced with sonic drive in\n",
      "sonic drivein  is replaced with sonic drive in\n",
      "sonic drivein  is replaced with sonic drive in\n",
      "awlong john silvers  is replaced with long john silvers\n",
      "long john silvers  aw  is replaced with long john silvers\n",
      "long john silvers  aw  is replaced with long john silvers\n",
      "long john silver aw  is replaced with long john silvers\n",
      "taco bellpizza hut express  is replaced with taco bell\n",
      "papa john’s pizza  is replaced with papa johns pizza\n",
      "burger king salou  is replaced with burger king\n",
      "tacotime  is replaced with taco time\n",
      "tacotime  is replaced with taco time\n",
      "tacotime  is replaced with taco time\n",
      "jimmy johns gourmet sandwiches  is replaced with jimmy johns\n",
      "rallys hamburgers  is replaced with rallys\n",
      "rallys hamburgers  is replaced with rallys\n",
      "rallys hamburgers  is replaced with rallys\n",
      "rallys hamburgers  is replaced with rallys\n",
      "rallys springfield  is replaced with rallys\n",
      "rallys hamburgers  is replaced with rallys\n",
      "quiznos   is replaced with quiznos\n",
      "quiznos sub  is replaced with quiznos\n",
      "quiznos sub  is replaced with quiznos\n",
      "subway®  is replaced with subway\n",
      "subway citgo of quarryville  is replaced with subway\n",
      "subway johnson  jonesboro  is replaced with subway\n",
      "subway sandwiches and salads  is replaced with subway\n"
     ]
    },
    {
     "name": "stdout",
     "output_type": "stream",
     "text": [
      "subway  roland park  is replaced with subway\n",
      "subway  bells ferry  is replaced with subway\n",
      "subway sandwiches  is replaced with subway\n",
      "subway guitars  is replaced with subway\n",
      "subway®  is replaced with subway\n",
      "arbys antigo  is replaced with arbys\n",
      "kfc  taco bell  is replaced with kfc\n",
      "kfc  kentucky fried chicken  is replaced with kfc\n",
      "kfc  taco bell  is replaced with kfc\n",
      "kfctaco bell  is replaced with kfc\n",
      "kfc  taco bell  is replaced with kfc\n",
      "kfctaco bell  is replaced with kfc\n",
      "kfc  kentucky fried chicken  is replaced with kfc\n",
      "kfc  aw  is replaced with kfc\n",
      "kfc  kentucky fried chicken  is replaced with kfc\n",
      "aw allamerican food  is replaced with aw all american food\n",
      "aw allamerican food  is replaced with aw all american food\n",
      "aw allamerican food  is replaced with aw all american food\n",
      "aw allamerican foods  is replaced with aw all american food\n",
      "aw allamerican food  is replaced with aw all american food\n"
     ]
    }
   ],
   "source": [
    "#clean 'name' values\n",
    "\n",
    "#Make name groups\n",
    "mcdonald_str = [\"mcdonalds\", \"mc donalds\", \"mcdonalds  old atlanta\", \"mcdonalds of mililani mauka\", \"mcdonalds  walmart\", \"flash foods  mcdonalds\", \"mcdonald’s\", \"mcdonalds 25557\"]\n",
    "wendy_str = [\"wendys\", \"wendy two two eight\"]\n",
    "sonic_str = [\"sonic drive in\", \"sonic drivein\", \"sonic\", \"sonic drivein trailer\"]\n",
    "johnsilver_str = [\"long john silvers\", \"awlong john silvers\", \"long john silvers  aw\", \"long john silver aw\"]\n",
    "tacobell_str = [\"taco bell\", \"taco bellpizza hut express\"]\n",
    "papajohns_str = [\"papa johns pizza\", \"papa johns\", \"papa john’s pizza\"]\n",
    "burgerking_str = [\"burger king\", \"burger king salou\"]\n",
    "tacotime_str = [\"taco time\", \"tacotime\"]\n",
    "jimmyjohns_str = [\"jimmy johns\", \"jimmy johns gourmet sandwiches\"]\n",
    "rallys_str = [\"rallys\", \"rallys hamburgers\", \"rallys springfield\"]\n",
    "quiznos_str = [\"quiznos\", \"quiznos \", \"quiznos sub\"]\n",
    "subway_str = [\"subway\", \"subway®\", \"subway citgo of quarryville\", \"subway johnson  jonesboro\", \"subway sandwiches and salads\", \"subway  roland park\", \"subway  bells ferry\", \"subway sandwiches\", \"subway guitars\"]\n",
    "raisingcanes_str = [\"raising canes chicken fingers\", \"raising canes\"]\n",
    "arbys_str = [\"arbys\", \"arbys antigo\"]\n",
    "panda_str = [\"panda express\", \"panda\"]\n",
    "kfc_str = [\"kfc\", \"kfc  taco bell\", \"kfc  kentucky fried chicken\", \"kfctaco bell\", \"kfc  aw\"]\n",
    "allamerican_str = [\"aw all american food\", \"aw allamerican food\", \"aw allamerican foods\"]\n",
    "\n",
    "def clean_name(toReplaceList, toReplaceValue):\n",
    "    for (row, col) in restaurant_data_new.iterrows():\n",
    "\n",
    "        if (col['name'] in toReplaceList):\n",
    "            if col['name'] not in toReplaceValue:\n",
    "                print(col['name'], ' is replaced with', toReplaceValue)\n",
    "                restaurant_data_new['name'].replace(to_replace=col['name'], value=toReplaceValue, inplace=True)\n",
    "\n",
    "\n",
    "clean_name(mcdonald_str, mcdonald_str[0])  #16\n",
    "clean_name(wendy_str, wendy_str[0])\n",
    "clean_name(sonic_str, sonic_str[0])\n",
    "clean_name(johnsilver_str, johnsilver_str[0])\n",
    "clean_name(tacobell_str, tacobell_str[0])\n",
    "clean_name(papajohns_str, papajohns_str[0])\n",
    "clean_name(burgerking_str, burgerking_str[0])\n",
    "clean_name(tacotime_str, tacotime_str[0])\n",
    "clean_name(jimmyjohns_str, jimmyjohns_str[0])\n",
    "clean_name(rallys_str, rallys_str[0])\n",
    "clean_name(quiznos_str, quiznos_str[0])\n",
    "clean_name(subway_str, subway_str[0])\n",
    "clean_name(raisingcanes_str, raisingcanes_str[0])\n",
    "clean_name(arbys_str, arbys_str[0])\n",
    "clean_name(panda_str, panda_str[0])\n",
    "clean_name(kfc_str, kfc_str[0])\n",
    "clean_name(allamerican_str, allamerican_str[0])\n"
   ]
  },
  {
   "cell_type": "markdown",
   "metadata": {},
   "source": [
    "#### Restaurant count post 'name cleaning'. "
   ]
  },
  {
   "cell_type": "code",
   "execution_count": 28,
   "metadata": {},
   "outputs": [
    {
     "data": {
      "text/plain": [
       "mcdonalds                                           2121\n",
       "burger king                                         1155\n",
       "taco bell                                            874\n",
       "wendys                                               735\n",
       "arbys                                                521\n",
       "kfc                                                  450\n",
       "subway                                               413\n",
       "sonic drive in                                       387\n",
       "dominos pizza                                        359\n",
       "jack in the box                                      201\n",
       "hardees                                              194\n",
       "jimmy johns                                          164\n",
       "chickfila                                            146\n",
       "pizza hut                                            128\n",
       "bojangles famous chicken n biscuits                  126\n",
       "five guys                                             96\n",
       "dairy queen                                           92\n",
       "whataburger                                           88\n",
       "carls jr                                              85\n",
       "taco johns                                            77\n",
       "waffle house                                          74\n",
       "krystal                                               64\n",
       "white castle                                          54\n",
       "checkers                                              48\n",
       "boston market                                         45\n",
       "quiznos                                               45\n",
       "del taco                                              44\n",
       "long john silvers                                     42\n",
       "rallys                                                40\n",
       "culvers                                               39\n",
       "                                                    ... \n",
       "omg rotisserie                                         1\n",
       "hometown buffet                                        1\n",
       "petes burgers                                          1\n",
       "the pita pit                                           1\n",
       "bbt                                                    1\n",
       "lennys sub shop                                        1\n",
       "cousins subs of green bay  oneida st  ramada way       1\n",
       "tommys sub shop                                        1\n",
       "the agora                                              1\n",
       "mooyah burgers fries  shakes                           1\n",
       "hermosa                                                1\n",
       "regal cinemas tikahtnu  16 imax  rpx                   1\n",
       "royal buffet                                           1\n",
       "lime ricky world                                       1\n",
       "tasty carryout                                         1\n",
       "jamba juice                                            1\n",
       "dairy isle                                             1\n",
       "meatheads                                              1\n",
       "luxor food court                                       1\n",
       "ball state lafollette dining                           1\n",
       "chickenow                                              1\n",
       "the break away sports cafe                             1\n",
       "stars drivein                                          1\n",
       "fitness 19                                             1\n",
       "gyros kings                                            1\n",
       "braums ice cream  dairy store                          1\n",
       "marias fry bread  mexican food                         1\n",
       "bad daddys burger bar                                  1\n",
       "hungry andys                                           1\n",
       "bgood                                                  1\n",
       "Name: name, Length: 453, dtype: int64"
      ]
     },
     "execution_count": 28,
     "metadata": {},
     "output_type": "execute_result"
    }
   ],
   "source": [
    "restaurant_data_new.name.value_counts()"
   ]
  },
  {
   "cell_type": "markdown",
   "metadata": {},
   "source": [
    "#### Check occurences of province 'Co Spgs' for correcting to 'CO'"
   ]
  },
  {
   "cell_type": "code",
   "execution_count": 29,
   "metadata": {},
   "outputs": [
    {
     "data": {
      "text/html": [
       "<div>\n",
       "<style>\n",
       "    .dataframe thead tr:only-child th {\n",
       "        text-align: right;\n",
       "    }\n",
       "\n",
       "    .dataframe thead th {\n",
       "        text-align: left;\n",
       "    }\n",
       "\n",
       "    .dataframe tbody tr th {\n",
       "        vertical-align: top;\n",
       "    }\n",
       "</style>\n",
       "<table border=\"1\" class=\"dataframe\">\n",
       "  <thead>\n",
       "    <tr style=\"text-align: right;\">\n",
       "      <th></th>\n",
       "      <th>address</th>\n",
       "      <th>city</th>\n",
       "      <th>country</th>\n",
       "      <th>latitude</th>\n",
       "      <th>longitude</th>\n",
       "      <th>name</th>\n",
       "      <th>postalCode</th>\n",
       "      <th>province</th>\n",
       "    </tr>\n",
       "  </thead>\n",
       "  <tbody>\n",
       "    <tr>\n",
       "      <th>6754</th>\n",
       "      <td>1760 Cheyenne Mountain Blvd</td>\n",
       "      <td>Colorado Springs</td>\n",
       "      <td>US</td>\n",
       "      <td>38.795186</td>\n",
       "      <td>-104.802556</td>\n",
       "      <td>burger king</td>\n",
       "      <td>80906</td>\n",
       "      <td>Co Spgs</td>\n",
       "    </tr>\n",
       "    <tr>\n",
       "      <th>6797</th>\n",
       "      <td>603 S 8th St</td>\n",
       "      <td>Colorado Springs</td>\n",
       "      <td>US</td>\n",
       "      <td>38.825974</td>\n",
       "      <td>-104.840350</td>\n",
       "      <td>sonic drive in</td>\n",
       "      <td>80905</td>\n",
       "      <td>Co Spgs</td>\n",
       "    </tr>\n",
       "    <tr>\n",
       "      <th>8254</th>\n",
       "      <td>1507 S Nevada Ave</td>\n",
       "      <td>Colorado Springs</td>\n",
       "      <td>US</td>\n",
       "      <td>38.812493</td>\n",
       "      <td>-104.822123</td>\n",
       "      <td>taco bell</td>\n",
       "      <td>80905</td>\n",
       "      <td>Co Spgs</td>\n",
       "    </tr>\n",
       "    <tr>\n",
       "      <th>8952</th>\n",
       "      <td>207 N Wahsatch Ave</td>\n",
       "      <td>Colorado Springs</td>\n",
       "      <td>US</td>\n",
       "      <td>38.836895</td>\n",
       "      <td>-104.817296</td>\n",
       "      <td>mcdonalds</td>\n",
       "      <td>80903</td>\n",
       "      <td>Co Spgs</td>\n",
       "    </tr>\n",
       "    <tr>\n",
       "      <th>9198</th>\n",
       "      <td>5710 N Academy Blvd</td>\n",
       "      <td>Colorado Springs</td>\n",
       "      <td>US</td>\n",
       "      <td>38.913264</td>\n",
       "      <td>-104.788447</td>\n",
       "      <td>arbys</td>\n",
       "      <td>80907</td>\n",
       "      <td>Co Spgs</td>\n",
       "    </tr>\n",
       "  </tbody>\n",
       "</table>\n",
       "</div>"
      ],
      "text/plain": [
       "                          address              city country   latitude  \\\n",
       "6754  1760 Cheyenne Mountain Blvd  Colorado Springs      US  38.795186   \n",
       "6797                 603 S 8th St  Colorado Springs      US  38.825974   \n",
       "8254            1507 S Nevada Ave  Colorado Springs      US  38.812493   \n",
       "8952           207 N Wahsatch Ave  Colorado Springs      US  38.836895   \n",
       "9198          5710 N Academy Blvd  Colorado Springs      US  38.913264   \n",
       "\n",
       "       longitude            name postalCode province  \n",
       "6754 -104.802556     burger king      80906  Co Spgs  \n",
       "6797 -104.840350  sonic drive in      80905  Co Spgs  \n",
       "8254 -104.822123       taco bell      80905  Co Spgs  \n",
       "8952 -104.817296       mcdonalds      80903  Co Spgs  \n",
       "9198 -104.788447           arbys      80907  Co Spgs  "
      ]
     },
     "execution_count": 29,
     "metadata": {},
     "output_type": "execute_result"
    }
   ],
   "source": [
    "restaurant_data_new[restaurant_data_new.province.str.contains('Co Spgs')]"
   ]
  },
  {
   "cell_type": "code",
   "execution_count": 30,
   "metadata": {},
   "outputs": [
    {
     "data": {
      "text/plain": [
       "CA         676\n",
       "TX         634\n",
       "OH         543\n",
       "FL         471\n",
       "IN         379\n",
       "IL         363\n",
       "NC         358\n",
       "GA         347\n",
       "MO         334\n",
       "KY         332\n",
       "VA         327\n",
       "PA         283\n",
       "NY         269\n",
       "MI         251\n",
       "TN         245\n",
       "SC         238\n",
       "LA         237\n",
       "AL         236\n",
       "WA         209\n",
       "OK         208\n",
       "AZ         208\n",
       "WI         186\n",
       "IA         166\n",
       "MD         159\n",
       "UT         159\n",
       "CO         158\n",
       "NJ         151\n",
       "AR         151\n",
       "NM         149\n",
       "MN         148\n",
       "NV         135\n",
       "MA         131\n",
       "OR         114\n",
       "SD         105\n",
       "KS         103\n",
       "ID          99\n",
       "CT          96\n",
       "WV          93\n",
       "NE          92\n",
       "MS          82\n",
       "ND          50\n",
       "ME          44\n",
       "VT          43\n",
       "WY          41\n",
       "HI          40\n",
       "NH          36\n",
       "DE          32\n",
       "MT          25\n",
       "RI          24\n",
       "DC          21\n",
       "AK          14\n",
       "Co Spgs      5\n",
       "Name: province, dtype: int64"
      ]
     },
     "execution_count": 30,
     "metadata": {},
     "output_type": "execute_result"
    }
   ],
   "source": [
    "restaurant_data_new.province.value_counts() # each province count"
   ]
  },
  {
   "cell_type": "code",
   "execution_count": 31,
   "metadata": {},
   "outputs": [
    {
     "data": {
      "text/plain": [
       "52"
      ]
     },
     "execution_count": 31,
     "metadata": {},
     "output_type": "execute_result"
    }
   ],
   "source": [
    "len(set(restaurant_data_new.province))  #Unique province count pre cleaning"
   ]
  },
  {
   "cell_type": "markdown",
   "metadata": {},
   "source": [
    "#### Clean 'province' values."
   ]
  },
  {
   "cell_type": "code",
   "execution_count": 32,
   "metadata": {},
   "outputs": [
    {
     "name": "stdout",
     "output_type": "stream",
     "text": [
      "Co Spgs  is replaced with CO\n",
      "Co Spgs  is replaced with CO\n",
      "Co Spgs  is replaced with CO\n",
      "Co Spgs  is replaced with CO\n",
      "Co Spgs  is replaced with CO\n"
     ]
    }
   ],
   "source": [
    "# clean 'province' values\n",
    "province_co = [\"Co Spgs\"]\n",
    "\n",
    "for (row, col) in restaurant_data_new.iterrows():\n",
    "\n",
    "    if (col['province'] in province_co):\n",
    "        print(col['province'], ' is replaced with', 'CO')\n",
    "        restaurant_data_new['province'].replace(to_replace=col['province'], value='CO', inplace=True)"
   ]
  },
  {
   "cell_type": "code",
   "execution_count": 33,
   "metadata": {},
   "outputs": [
    {
     "data": {
      "text/plain": [
       "51"
      ]
     },
     "execution_count": 33,
     "metadata": {},
     "output_type": "execute_result"
    }
   ],
   "source": [
    "len(set(restaurant_data_new.province))  #Unique province count post cleaning"
   ]
  },
  {
   "cell_type": "code",
   "execution_count": 34,
   "metadata": {},
   "outputs": [
    {
     "data": {
      "text/plain": [
       "CA    676\n",
       "TX    634\n",
       "OH    543\n",
       "FL    471\n",
       "IN    379\n",
       "IL    363\n",
       "NC    358\n",
       "GA    347\n",
       "MO    334\n",
       "KY    332\n",
       "VA    327\n",
       "PA    283\n",
       "NY    269\n",
       "MI    251\n",
       "TN    245\n",
       "SC    238\n",
       "LA    237\n",
       "AL    236\n",
       "WA    209\n",
       "AZ    208\n",
       "OK    208\n",
       "WI    186\n",
       "IA    166\n",
       "CO    163\n",
       "UT    159\n",
       "MD    159\n",
       "NJ    151\n",
       "AR    151\n",
       "NM    149\n",
       "MN    148\n",
       "NV    135\n",
       "MA    131\n",
       "OR    114\n",
       "SD    105\n",
       "KS    103\n",
       "ID     99\n",
       "CT     96\n",
       "WV     93\n",
       "NE     92\n",
       "MS     82\n",
       "ND     50\n",
       "ME     44\n",
       "VT     43\n",
       "WY     41\n",
       "HI     40\n",
       "NH     36\n",
       "DE     32\n",
       "MT     25\n",
       "RI     24\n",
       "DC     21\n",
       "AK     14\n",
       "Name: province, dtype: int64"
      ]
     },
     "execution_count": 34,
     "metadata": {},
     "output_type": "execute_result"
    }
   ],
   "source": [
    "restaurant_data_new.province.value_counts() # each province count"
   ]
  },
  {
   "cell_type": "markdown",
   "metadata": {},
   "source": [
    "#### Create a new column 'region' to group each province under respective region"
   ]
  },
  {
   "cell_type": "code",
   "execution_count": 35,
   "metadata": {
    "collapsed": true
   },
   "outputs": [],
   "source": [
    "#Create a new column 'region' to group each province under respective region\n",
    "region_west = ['AK', 'AZ', 'CA', 'CO', 'HI', 'ID', 'MT', 'NV', 'NM', 'OR', 'UT', 'WA', 'WY']\n",
    "region_central = ['IL', 'IN', 'IA', 'KS', 'MI', 'MO', 'MN', 'NE', 'ND', 'OH', 'SD', 'WI']\n",
    "region_south = ['AL', 'AR', 'DE', 'FL', 'GA', 'KY', 'LA', 'MD', 'MS', 'OK', 'NC', 'SC', 'TN', 'TX', 'VA', 'WV', 'DC']\n",
    "region_east = ['CT', 'ME', 'NH', 'MA', 'NJ', 'NY', 'PA', 'RI', 'VT']\n",
    "\n",
    "\n",
    "restaurant_data_new['region'] = restaurant_data_new.apply(lambda x: 'West' if x['province'] in region_west else 'Central' if x['province'] in region_central else 'South' if x['province'] in region_south else 'East', axis=1)"
   ]
  },
  {
   "cell_type": "code",
   "execution_count": 36,
   "metadata": {},
   "outputs": [
    {
     "data": {
      "text/html": [
       "<div>\n",
       "<style>\n",
       "    .dataframe thead tr:only-child th {\n",
       "        text-align: right;\n",
       "    }\n",
       "\n",
       "    .dataframe thead th {\n",
       "        text-align: left;\n",
       "    }\n",
       "\n",
       "    .dataframe tbody tr th {\n",
       "        vertical-align: top;\n",
       "    }\n",
       "</style>\n",
       "<table border=\"1\" class=\"dataframe\">\n",
       "  <thead>\n",
       "    <tr style=\"text-align: right;\">\n",
       "      <th></th>\n",
       "      <th>address</th>\n",
       "      <th>city</th>\n",
       "      <th>country</th>\n",
       "      <th>latitude</th>\n",
       "      <th>longitude</th>\n",
       "      <th>name</th>\n",
       "      <th>postalCode</th>\n",
       "      <th>province</th>\n",
       "      <th>region</th>\n",
       "    </tr>\n",
       "  </thead>\n",
       "  <tbody>\n",
       "    <tr>\n",
       "      <th>405</th>\n",
       "      <td>810 E Broadway</td>\n",
       "      <td>Centralia</td>\n",
       "      <td>US</td>\n",
       "      <td>38.526380</td>\n",
       "      <td>-89.124770</td>\n",
       "      <td>mcdonalds</td>\n",
       "      <td>62801</td>\n",
       "      <td>IL</td>\n",
       "      <td>Central</td>\n",
       "    </tr>\n",
       "    <tr>\n",
       "      <th>6804</th>\n",
       "      <td>1106 N Military Hwy</td>\n",
       "      <td>Norfolk</td>\n",
       "      <td>US</td>\n",
       "      <td>36.860763</td>\n",
       "      <td>-76.209939</td>\n",
       "      <td>burger king</td>\n",
       "      <td>23502</td>\n",
       "      <td>VA</td>\n",
       "      <td>South</td>\n",
       "    </tr>\n",
       "    <tr>\n",
       "      <th>2779</th>\n",
       "      <td>700a Main St N</td>\n",
       "      <td>Amory</td>\n",
       "      <td>US</td>\n",
       "      <td>33.991970</td>\n",
       "      <td>-88.491070</td>\n",
       "      <td>dominos pizza</td>\n",
       "      <td>38821</td>\n",
       "      <td>MS</td>\n",
       "      <td>South</td>\n",
       "    </tr>\n",
       "    <tr>\n",
       "      <th>9011</th>\n",
       "      <td>2782 Sandy Plains Rd</td>\n",
       "      <td>Marietta</td>\n",
       "      <td>US</td>\n",
       "      <td>34.017420</td>\n",
       "      <td>-84.491136</td>\n",
       "      <td>mcdonalds</td>\n",
       "      <td>30066</td>\n",
       "      <td>GA</td>\n",
       "      <td>South</td>\n",
       "    </tr>\n",
       "    <tr>\n",
       "      <th>5862</th>\n",
       "      <td>1560 Laurens Rd</td>\n",
       "      <td>Greenville</td>\n",
       "      <td>US</td>\n",
       "      <td>34.841450</td>\n",
       "      <td>-82.360140</td>\n",
       "      <td>st louis original hamburgers</td>\n",
       "      <td>29607</td>\n",
       "      <td>SC</td>\n",
       "      <td>South</td>\n",
       "    </tr>\n",
       "    <tr>\n",
       "      <th>4792</th>\n",
       "      <td>1901 North Cove Blvd</td>\n",
       "      <td>Panama City</td>\n",
       "      <td>US</td>\n",
       "      <td>30.183125</td>\n",
       "      <td>-85.650370</td>\n",
       "      <td>waffle house</td>\n",
       "      <td>32405</td>\n",
       "      <td>FL</td>\n",
       "      <td>South</td>\n",
       "    </tr>\n",
       "    <tr>\n",
       "      <th>9183</th>\n",
       "      <td>12611 Louetta Rd</td>\n",
       "      <td>Cypress</td>\n",
       "      <td>US</td>\n",
       "      <td>29.996000</td>\n",
       "      <td>-95.615490</td>\n",
       "      <td>wendys</td>\n",
       "      <td>77429</td>\n",
       "      <td>TX</td>\n",
       "      <td>South</td>\n",
       "    </tr>\n",
       "    <tr>\n",
       "      <th>4126</th>\n",
       "      <td>340 W Hanley Ave</td>\n",
       "      <td>Coeur D Alene</td>\n",
       "      <td>US</td>\n",
       "      <td>47.729560</td>\n",
       "      <td>-116.791690</td>\n",
       "      <td>mcdonalds</td>\n",
       "      <td>83815</td>\n",
       "      <td>ID</td>\n",
       "      <td>West</td>\n",
       "    </tr>\n",
       "    <tr>\n",
       "      <th>5361</th>\n",
       "      <td>7790 N Point Blvd</td>\n",
       "      <td>Winston Salem</td>\n",
       "      <td>US</td>\n",
       "      <td>36.151544</td>\n",
       "      <td>-80.279716</td>\n",
       "      <td>taco bell</td>\n",
       "      <td>27106</td>\n",
       "      <td>NC</td>\n",
       "      <td>South</td>\n",
       "    </tr>\n",
       "    <tr>\n",
       "      <th>983</th>\n",
       "      <td>5235 Simpson Ferry Rd</td>\n",
       "      <td>Mechanicsburg</td>\n",
       "      <td>US</td>\n",
       "      <td>40.217890</td>\n",
       "      <td>-76.983540</td>\n",
       "      <td>wendys</td>\n",
       "      <td>17050</td>\n",
       "      <td>PA</td>\n",
       "      <td>East</td>\n",
       "    </tr>\n",
       "  </tbody>\n",
       "</table>\n",
       "</div>"
      ],
      "text/plain": [
       "                    address           city country   latitude   longitude  \\\n",
       "405          810 E Broadway      Centralia      US  38.526380  -89.124770   \n",
       "6804    1106 N Military Hwy        Norfolk      US  36.860763  -76.209939   \n",
       "2779         700a Main St N          Amory      US  33.991970  -88.491070   \n",
       "9011   2782 Sandy Plains Rd       Marietta      US  34.017420  -84.491136   \n",
       "5862        1560 Laurens Rd     Greenville      US  34.841450  -82.360140   \n",
       "4792   1901 North Cove Blvd    Panama City      US  30.183125  -85.650370   \n",
       "9183       12611 Louetta Rd        Cypress      US  29.996000  -95.615490   \n",
       "4126       340 W Hanley Ave  Coeur D Alene      US  47.729560 -116.791690   \n",
       "5361      7790 N Point Blvd  Winston Salem      US  36.151544  -80.279716   \n",
       "983   5235 Simpson Ferry Rd  Mechanicsburg      US  40.217890  -76.983540   \n",
       "\n",
       "                              name postalCode province   region  \n",
       "405                      mcdonalds      62801       IL  Central  \n",
       "6804                   burger king      23502       VA    South  \n",
       "2779                 dominos pizza      38821       MS    South  \n",
       "9011                     mcdonalds      30066       GA    South  \n",
       "5862  st louis original hamburgers      29607       SC    South  \n",
       "4792                  waffle house      32405       FL    South  \n",
       "9183                        wendys      77429       TX    South  \n",
       "4126                     mcdonalds      83815       ID     West  \n",
       "5361                     taco bell      27106       NC    South  \n",
       "983                         wendys      17050       PA     East  "
      ]
     },
     "execution_count": 36,
     "metadata": {},
     "output_type": "execute_result"
    }
   ],
   "source": [
    "restaurant_data_new.sample(10)"
   ]
  },
  {
   "cell_type": "code",
   "execution_count": 37,
   "metadata": {},
   "outputs": [
    {
     "data": {
      "text/plain": [
       "South      4171\n",
       "Central    2720\n",
       "West       2032\n",
       "East       1077\n",
       "Name: region, dtype: int64"
      ]
     },
     "execution_count": 37,
     "metadata": {},
     "output_type": "execute_result"
    }
   ],
   "source": [
    "restaurant_data_new.region.value_counts()"
   ]
  },
  {
   "cell_type": "markdown",
   "metadata": {},
   "source": [
    "<a id=section504></a>\n",
    "### 5.5 Post Profiling"
   ]
  },
  {
   "cell_type": "code",
   "execution_count": 38,
   "metadata": {
    "collapsed": true
   },
   "outputs": [],
   "source": [
    "profile=pandas_profiling.ProfileReport(restaurant_data_new)\n",
    "profile.to_file(outputfile=\"restaurant_after_processing.html\")"
   ]
  },
  {
   "cell_type": "markdown",
   "metadata": {},
   "source": [
    "<a id=section6></a>\n",
    "## 6. Analysis"
   ]
  },
  {
   "cell_type": "markdown",
   "metadata": {},
   "source": [
    "<a id=section601></a>\n",
    "### 6.1 How the restaurants are distributed regionwise ?"
   ]
  },
  {
   "cell_type": "code",
   "execution_count": 39,
   "metadata": {},
   "outputs": [
    {
     "data": {
      "text/plain": [
       "<matplotlib.text.Text at 0x26f72831198>"
      ]
     },
     "execution_count": 39,
     "metadata": {},
     "output_type": "execute_result"
    },
    {
     "data": {
      "image/png": "[encoded data removed]",
      "text/plain": [
       "<matplotlib.figure.Figure at 0x26f72fe31d0>"
      ]
     },
     "metadata": {},
     "output_type": "display_data"
    }
   ],
   "source": [
    "cityplt = (restaurant_data_new.region.value_counts() / len(restaurant_data_new)).plot.bar(title='Region wise distribution',color=\"bgym\")\n",
    "cityplt.set_xlabel('Region',size=15)\n",
    "cityplt.set_ylabel('Percentage',size=15)\n"
   ]
  },
  {
   "cell_type": "markdown",
   "metadata": {},
   "source": [
    "<a id=section602></a>\n",
    "### 6.2 Which state have a maximum no. of fast food restaurants in U.S?"
   ]
  },
  {
   "cell_type": "code",
   "execution_count": 40,
   "metadata": {},
   "outputs": [
    {
     "data": {
      "image/png": "[encoded data removed]",
      "text/plain": [
       "<matplotlib.figure.Figure at 0x26f7276b7f0>"
      ]
     },
     "metadata": {},
     "output_type": "display_data"
    }
   ],
   "source": [
    "top_10_statesUS = restaurant_data_new['province'].value_counts()[:10].to_frame()\n",
    "plt.figure(figsize=(10,5))\n",
    "sns.barplot(top_10_statesUS['province'],top_10_statesUS.index,palette=\"PuBuGn_d\")\n",
    "plt.title('Top 10 US states in terms of contribution',fontsize=15,fontweight=\"bold\")\n",
    "plt.xlabel('')\n",
    "plt.show()"
   ]
  },
  {
   "cell_type": "code",
   "execution_count": 41,
   "metadata": {},
   "outputs": [
    {
     "data": {
      "text/plain": [
       "CA    676\n",
       "TX    634\n",
       "OH    543\n",
       "FL    471\n",
       "IN    379\n",
       "Name: province, dtype: int64"
      ]
     },
     "execution_count": 41,
     "metadata": {},
     "output_type": "execute_result"
    }
   ],
   "source": [
    "restaurant_data_new['province'].value_counts().head()"
   ]
  },
  {
   "cell_type": "markdown",
   "metadata": {},
   "source": [
    "### Observation :"
   ]
  },
  {
   "cell_type": "markdown",
   "metadata": {},
   "source": [
    "- Out of total 10000 fast food restaurants in United states \n",
    "\n",
    "  - <em>__CA__</em> state have __676__ fast food restaurants which is maximum in __U.S__. \n",
    "  - <em>__TX__</em> state have __634__ fast food restaurants which is 2nd maximum in __U.S__. \n",
    "  - <em>__OH__</em> state have __543__ fast food restaurants which is 3rd maximum in __U.S__. \n",
    "  - <em>__FL__</em> state have __471__ fast food restaurants which is 4th maximum in __U.S__.\n",
    "  - Remaining states contributes less than the contribution of __FL__ state."
   ]
  },
  {
   "cell_type": "markdown",
   "metadata": {},
   "source": [
    "<a id=section603></a>\n",
    "### 6.3 Which city have a maximum no. of fast food restaurants in U.S?"
   ]
  },
  {
   "cell_type": "code",
   "execution_count": 42,
   "metadata": {},
   "outputs": [
    {
     "data": {
      "text/plain": [
       "<matplotlib.text.Text at 0x26f72efabe0>"
      ]
     },
     "execution_count": 42,
     "metadata": {},
     "output_type": "execute_result"
    },
    {
     "data": {
      "image/png": "[encoded data removed]",
      "text/plain": [
       "<matplotlib.figure.Figure at 0x26f72cb5ef0>"
      ]
     },
     "metadata": {},
     "output_type": "display_data"
    }
   ],
   "source": [
    "cityplt = (restaurant_data_new.city.value_counts() / len(restaurant_data_new))[:10].plot.bar(title='Top 10 Cities',color='Bgyc')\n",
    "cityplt.set_xlabel('City',size=15)\n",
    "cityplt.set_ylabel('Percentage',size=15)"
   ]
  },
  {
   "cell_type": "code",
   "execution_count": 43,
   "metadata": {},
   "outputs": [
    {
     "data": {
      "text/plain": [
       "Cincinnati       119\n",
       "Las Vegas         72\n",
       "Houston           63\n",
       "Miami             58\n",
       "Denver            52\n",
       "Chicago           51\n",
       "Phoenix           42\n",
       "Columbus          41\n",
       "Atlanta           41\n",
       "Oklahoma City     41\n",
       "Name: city, dtype: int64"
      ]
     },
     "execution_count": 43,
     "metadata": {},
     "output_type": "execute_result"
    }
   ],
   "source": [
    "restaurant_data_new['city'].value_counts().head(10)"
   ]
  },
  {
   "cell_type": "markdown",
   "metadata": {
    "collapsed": true
   },
   "source": [
    "### Observation:"
   ]
  },
  {
   "cell_type": "markdown",
   "metadata": {
    "collapsed": true
   },
   "source": [
    "- The __Cincinnati__ city located in __OH__ state have __119__ fast food restaurants which is highest in the dataset."
   ]
  },
  {
   "cell_type": "markdown",
   "metadata": {
    "collapsed": true
   },
   "source": [
    "<a id=section604></a>\n",
    "### 6.4 What is the distribution of top 10 restaurants in California ?"
   ]
  },
  {
   "cell_type": "code",
   "execution_count": 56,
   "metadata": {},
   "outputs": [
    {
     "data": {
      "text/plain": [
       "<matplotlib.text.Text at 0x26f735cd8d0>"
      ]
     },
     "execution_count": 56,
     "metadata": {},
     "output_type": "execute_result"
    },
    {
     "data": {
      "image/png": "[encoded data removed]",
      "text/plain": [
       "<matplotlib.figure.Figure at 0x26f732cb1d0>"
      ]
     },
     "metadata": {},
     "output_type": "display_data"
    }
   ],
   "source": [
    "df_ca = restaurant_data_new[restaurant_data_new['province'] == 'CA']\n",
    "\n",
    "cityplt = df_ca.name.value_counts()[:10].plot.bar(title='Top 10 Restaurants in California',color='gkyc')\n",
    "cityplt.set_xlabel('Name of the Restaurant',size=15)\n",
    "cityplt.set_ylabel('Percentage',size=15)"
   ]
  },
  {
   "cell_type": "code",
   "execution_count": 50,
   "metadata": {},
   "outputs": [
    {
     "data": {
      "text/plain": [
       "mcdonalds          134\n",
       "taco bell           70\n",
       "jack in the box     65\n",
       "burger king         58\n",
       "carls jr            47\n",
       "subway              39\n",
       "el pollo loco       27\n",
       "del taco            27\n",
       "wendys              26\n",
       "kfc                 24\n",
       "Name: name, dtype: int64"
      ]
     },
     "execution_count": 50,
     "metadata": {},
     "output_type": "execute_result"
    }
   ],
   "source": [
    "df_ca.name.value_counts()[:10]"
   ]
  },
  {
   "cell_type": "markdown",
   "metadata": {},
   "source": [
    "### Observation:"
   ]
  },
  {
   "cell_type": "markdown",
   "metadata": {},
   "source": [
    "- The __mcdonalds__ Restaurant located in __CA__ state have __134__ fast food restaurants which is highest in CA.\n"
   ]
  },
  {
   "cell_type": "markdown",
   "metadata": {},
   "source": [
    "<a id=section605></a>\n",
    "### 6.5 How McDonald's restaurant is distributed in top 10 provinces ?"
   ]
  },
  {
   "cell_type": "code",
   "execution_count": 60,
   "metadata": {},
   "outputs": [
    {
     "data": {
      "text/plain": [
       "<matplotlib.text.Text at 0x26f73c020b8>"
      ]
     },
     "execution_count": 60,
     "metadata": {},
     "output_type": "execute_result"
    },
    {
     "data": {
      "image/png": "[encoded data removed]",
      "text/plain": [
       "<matplotlib.figure.Figure at 0x26f73872ba8>"
      ]
     },
     "metadata": {},
     "output_type": "display_data"
    }
   ],
   "source": [
    "df_name = restaurant_data_new[restaurant_data_new['name'] == 'mcdonalds']\n",
    "\n",
    "cityplt = df_name.province.value_counts()[:10].plot.bar(title='McDonald\\'s Restaurants in top 10 Province',color='bcmkyr')\n",
    "cityplt.set_xlabel('Name',size=15)\n",
    "cityplt.set_ylabel('Percentage',size=15)"
   ]
  },
  {
   "cell_type": "code",
   "execution_count": 65,
   "metadata": {},
   "outputs": [
    {
     "data": {
      "text/plain": [
       "TX    166\n",
       "CA    134\n",
       "OH    119\n",
       "FL     95\n",
       "IN     85\n",
       "IL     83\n",
       "NC     79\n",
       "MO     78\n",
       "KY     77\n",
       "PA     72\n",
       "Name: province, dtype: int64"
      ]
     },
     "execution_count": 65,
     "metadata": {},
     "output_type": "execute_result"
    }
   ],
   "source": [
    "df_name.province.value_counts()[:10]"
   ]
  },
  {
   "cell_type": "markdown",
   "metadata": {},
   "source": [
    "### Observation:"
   ]
  },
  {
   "cell_type": "markdown",
   "metadata": {},
   "source": [
    "- The __TX__ state has maximum number of ____ Mc Donald's __166__ fast food restaurants which is highest."
   ]
  },
  {
   "cell_type": "markdown",
   "metadata": {},
   "source": [
    "<a id=section606></a>\n",
    "### 6.6 How McDonald's restaurant is distributed in top 10 cities ?"
   ]
  },
  {
   "cell_type": "code",
   "execution_count": 70,
   "metadata": {},
   "outputs": [
    {
     "data": {
      "text/plain": [
       "<matplotlib.text.Text at 0x26f754ca470>"
      ]
     },
     "execution_count": 70,
     "metadata": {},
     "output_type": "execute_result"
    },
    {
     "data": {
      "image/png": "[encoded data removed]",
      "text/plain": [
       "<matplotlib.figure.Figure at 0x26f75469ba8>"
      ]
     },
     "metadata": {},
     "output_type": "display_data"
    }
   ],
   "source": [
    "df_city = restaurant_data_new[restaurant_data_new['name'] == 'mcdonalds']\n",
    "\n",
    "cityplt = df_city.city.value_counts()[:10].plot.bar(title='McDonald\\'s Restaurants in top 10 Cities',color='gkyc')\n",
    "cityplt.set_xlabel('City Name',size=15)\n",
    "cityplt.set_ylabel('Percentage',size=15)"
   ]
  },
  {
   "cell_type": "markdown",
   "metadata": {},
   "source": [
    "<a id=section607></a>\n",
    "### 6.7 Restaurants distribution as per Region, Province and City ?"
   ]
  },
  {
   "cell_type": "code",
   "execution_count": 71,
   "metadata": {},
   "outputs": [
    {
     "data": {
      "text/html": [
       "<div>\n",
       "<style>\n",
       "    .dataframe thead tr:only-child th {\n",
       "        text-align: right;\n",
       "    }\n",
       "\n",
       "    .dataframe thead th {\n",
       "        text-align: left;\n",
       "    }\n",
       "\n",
       "    .dataframe tbody tr th {\n",
       "        vertical-align: top;\n",
       "    }\n",
       "</style>\n",
       "<table border=\"1\" class=\"dataframe\">\n",
       "  <thead>\n",
       "    <tr style=\"text-align: right;\">\n",
       "      <th></th>\n",
       "      <th></th>\n",
       "      <th></th>\n",
       "      <th></th>\n",
       "      <th>name</th>\n",
       "    </tr>\n",
       "    <tr>\n",
       "      <th>region</th>\n",
       "      <th>province</th>\n",
       "      <th>city</th>\n",
       "      <th>name</th>\n",
       "      <th></th>\n",
       "    </tr>\n",
       "  </thead>\n",
       "  <tbody>\n",
       "    <tr>\n",
       "      <th rowspan=\"30\" valign=\"top\">Central</th>\n",
       "      <th rowspan=\"30\" valign=\"top\">IA</th>\n",
       "      <th rowspan=\"3\" valign=\"top\">Altoona</th>\n",
       "      <th>burger king</th>\n",
       "      <td>1</td>\n",
       "    </tr>\n",
       "    <tr>\n",
       "      <th>dominos pizza</th>\n",
       "      <td>1</td>\n",
       "    </tr>\n",
       "    <tr>\n",
       "      <th>mcdonalds</th>\n",
       "      <td>1</td>\n",
       "    </tr>\n",
       "    <tr>\n",
       "      <th rowspan=\"4\" valign=\"top\">Ames</th>\n",
       "      <th>dominos pizza</th>\n",
       "      <td>1</td>\n",
       "    </tr>\n",
       "    <tr>\n",
       "      <th>kfc</th>\n",
       "      <td>1</td>\n",
       "    </tr>\n",
       "    <tr>\n",
       "      <th>kum  go</th>\n",
       "      <td>1</td>\n",
       "    </tr>\n",
       "    <tr>\n",
       "      <th>kum go</th>\n",
       "      <td>1</td>\n",
       "    </tr>\n",
       "    <tr>\n",
       "      <th>Atlantic</th>\n",
       "      <th>kfc</th>\n",
       "      <td>1</td>\n",
       "    </tr>\n",
       "    <tr>\n",
       "      <th rowspan=\"2\" valign=\"top\">Bettendorf</th>\n",
       "      <th>mcdonalds</th>\n",
       "      <td>1</td>\n",
       "    </tr>\n",
       "    <tr>\n",
       "      <th>wendys</th>\n",
       "      <td>1</td>\n",
       "    </tr>\n",
       "    <tr>\n",
       "      <th>Boone</th>\n",
       "      <th>kum  go</th>\n",
       "      <td>1</td>\n",
       "    </tr>\n",
       "    <tr>\n",
       "      <th rowspan=\"3\" valign=\"top\">Burlington</th>\n",
       "      <th>arbys</th>\n",
       "      <td>1</td>\n",
       "    </tr>\n",
       "    <tr>\n",
       "      <th>mcdonalds</th>\n",
       "      <td>1</td>\n",
       "    </tr>\n",
       "    <tr>\n",
       "      <th>wendys</th>\n",
       "      <td>1</td>\n",
       "    </tr>\n",
       "    <tr>\n",
       "      <th>Calumet</th>\n",
       "      <th>jamjam</th>\n",
       "      <td>1</td>\n",
       "    </tr>\n",
       "    <tr>\n",
       "      <th rowspan=\"6\" valign=\"top\">Carroll</th>\n",
       "      <th>arbys</th>\n",
       "      <td>1</td>\n",
       "    </tr>\n",
       "    <tr>\n",
       "      <th>aw</th>\n",
       "      <td>1</td>\n",
       "    </tr>\n",
       "    <tr>\n",
       "      <th>burger king</th>\n",
       "      <td>2</td>\n",
       "    </tr>\n",
       "    <tr>\n",
       "      <th>jimmy johns</th>\n",
       "      <td>1</td>\n",
       "    </tr>\n",
       "    <tr>\n",
       "      <th>mcdonalds</th>\n",
       "      <td>1</td>\n",
       "    </tr>\n",
       "    <tr>\n",
       "      <th>taco johns</th>\n",
       "      <td>1</td>\n",
       "    </tr>\n",
       "    <tr>\n",
       "      <th rowspan=\"6\" valign=\"top\">Cedar Falls</th>\n",
       "      <th>arbys</th>\n",
       "      <td>1</td>\n",
       "    </tr>\n",
       "    <tr>\n",
       "      <th>jimmy johns</th>\n",
       "      <td>1</td>\n",
       "    </tr>\n",
       "    <tr>\n",
       "      <th>mcdonalds</th>\n",
       "      <td>2</td>\n",
       "    </tr>\n",
       "    <tr>\n",
       "      <th>taco bell</th>\n",
       "      <td>1</td>\n",
       "    </tr>\n",
       "    <tr>\n",
       "      <th>taco johns</th>\n",
       "      <td>1</td>\n",
       "    </tr>\n",
       "    <tr>\n",
       "      <th>thunder ridge ampride</th>\n",
       "      <td>1</td>\n",
       "    </tr>\n",
       "    <tr>\n",
       "      <th rowspan=\"3\" valign=\"top\">Cedar Rapids</th>\n",
       "      <th>burger king</th>\n",
       "      <td>1</td>\n",
       "    </tr>\n",
       "    <tr>\n",
       "      <th>mcdonalds</th>\n",
       "      <td>2</td>\n",
       "    </tr>\n",
       "    <tr>\n",
       "      <th>subway</th>\n",
       "      <td>1</td>\n",
       "    </tr>\n",
       "    <tr>\n",
       "      <th>...</th>\n",
       "      <th>...</th>\n",
       "      <th>...</th>\n",
       "      <th>...</th>\n",
       "      <td>...</td>\n",
       "    </tr>\n",
       "    <tr>\n",
       "      <th rowspan=\"30\" valign=\"top\">West</th>\n",
       "      <th rowspan=\"30\" valign=\"top\">WY</th>\n",
       "      <th rowspan=\"2\" valign=\"top\">Cody</th>\n",
       "      <th>arbys</th>\n",
       "      <td>1</td>\n",
       "    </tr>\n",
       "    <tr>\n",
       "      <th>burger king</th>\n",
       "      <td>1</td>\n",
       "    </tr>\n",
       "    <tr>\n",
       "      <th rowspan=\"2\" valign=\"top\">Evanston</th>\n",
       "      <th>dominos pizza</th>\n",
       "      <td>1</td>\n",
       "    </tr>\n",
       "    <tr>\n",
       "      <th>subway</th>\n",
       "      <td>1</td>\n",
       "    </tr>\n",
       "    <tr>\n",
       "      <th>Gillette</th>\n",
       "      <th>dominos pizza</th>\n",
       "      <td>1</td>\n",
       "    </tr>\n",
       "    <tr>\n",
       "      <th rowspan=\"4\" valign=\"top\">Jackson</th>\n",
       "      <th>dairy queen</th>\n",
       "      <td>1</td>\n",
       "    </tr>\n",
       "    <tr>\n",
       "      <th>dominos pizza</th>\n",
       "      <td>1</td>\n",
       "    </tr>\n",
       "    <tr>\n",
       "      <th>mcdonalds</th>\n",
       "      <td>1</td>\n",
       "    </tr>\n",
       "    <tr>\n",
       "      <th>wendys</th>\n",
       "      <td>1</td>\n",
       "    </tr>\n",
       "    <tr>\n",
       "      <th rowspan=\"8\" valign=\"top\">Laramie</th>\n",
       "      <th>arbys</th>\n",
       "      <td>1</td>\n",
       "    </tr>\n",
       "    <tr>\n",
       "      <th>burger king</th>\n",
       "      <td>1</td>\n",
       "    </tr>\n",
       "    <tr>\n",
       "      <th>mcdonalds</th>\n",
       "      <td>1</td>\n",
       "    </tr>\n",
       "    <tr>\n",
       "      <th>sonic drive in</th>\n",
       "      <td>1</td>\n",
       "    </tr>\n",
       "    <tr>\n",
       "      <th>subway</th>\n",
       "      <td>2</td>\n",
       "    </tr>\n",
       "    <tr>\n",
       "      <th>taco bell</th>\n",
       "      <td>1</td>\n",
       "    </tr>\n",
       "    <tr>\n",
       "      <th>taco johns</th>\n",
       "      <td>1</td>\n",
       "    </tr>\n",
       "    <tr>\n",
       "      <th>wendys</th>\n",
       "      <td>1</td>\n",
       "    </tr>\n",
       "    <tr>\n",
       "      <th rowspan=\"3\" valign=\"top\">Powell</th>\n",
       "      <th>dominos pizza</th>\n",
       "      <td>1</td>\n",
       "    </tr>\n",
       "    <tr>\n",
       "      <th>mcdonalds</th>\n",
       "      <td>1</td>\n",
       "    </tr>\n",
       "    <tr>\n",
       "      <th>subway</th>\n",
       "      <td>1</td>\n",
       "    </tr>\n",
       "    <tr>\n",
       "      <th rowspan=\"4\" valign=\"top\">Rawlins</th>\n",
       "      <th>burger king</th>\n",
       "      <td>1</td>\n",
       "    </tr>\n",
       "    <tr>\n",
       "      <th>dominos pizza</th>\n",
       "      <td>1</td>\n",
       "    </tr>\n",
       "    <tr>\n",
       "      <th>subway</th>\n",
       "      <td>1</td>\n",
       "    </tr>\n",
       "    <tr>\n",
       "      <th>taco bell</th>\n",
       "      <td>1</td>\n",
       "    </tr>\n",
       "    <tr>\n",
       "      <th rowspan=\"2\" valign=\"top\">Rock Springs</th>\n",
       "      <th>sonic drive in</th>\n",
       "      <td>1</td>\n",
       "    </tr>\n",
       "    <tr>\n",
       "      <th>taco bell</th>\n",
       "      <td>1</td>\n",
       "    </tr>\n",
       "    <tr>\n",
       "      <th rowspan=\"2\" valign=\"top\">Sheridan</th>\n",
       "      <th>jimmy johns</th>\n",
       "      <td>1</td>\n",
       "    </tr>\n",
       "    <tr>\n",
       "      <th>subway</th>\n",
       "      <td>2</td>\n",
       "    </tr>\n",
       "    <tr>\n",
       "      <th rowspan=\"2\" valign=\"top\">Wheatland</th>\n",
       "      <th>burger king</th>\n",
       "      <td>1</td>\n",
       "    </tr>\n",
       "    <tr>\n",
       "      <th>taco johns</th>\n",
       "      <td>1</td>\n",
       "    </tr>\n",
       "  </tbody>\n",
       "</table>\n",
       "<p>8269 rows × 1 columns</p>\n",
       "</div>"
      ],
      "text/plain": [
       "                                                     name\n",
       "region  province city         name                       \n",
       "Central IA       Altoona      burger king               1\n",
       "                              dominos pizza             1\n",
       "                              mcdonalds                 1\n",
       "                 Ames         dominos pizza             1\n",
       "                              kfc                       1\n",
       "                              kum  go                   1\n",
       "                              kum go                    1\n",
       "                 Atlantic     kfc                       1\n",
       "                 Bettendorf   mcdonalds                 1\n",
       "                              wendys                    1\n",
       "                 Boone        kum  go                   1\n",
       "                 Burlington   arbys                     1\n",
       "                              mcdonalds                 1\n",
       "                              wendys                    1\n",
       "                 Calumet      jamjam                    1\n",
       "                 Carroll      arbys                     1\n",
       "                              aw                        1\n",
       "                              burger king               2\n",
       "                              jimmy johns               1\n",
       "                              mcdonalds                 1\n",
       "                              taco johns                1\n",
       "                 Cedar Falls  arbys                     1\n",
       "                              jimmy johns               1\n",
       "                              mcdonalds                 2\n",
       "                              taco bell                 1\n",
       "                              taco johns                1\n",
       "                              thunder ridge ampride     1\n",
       "                 Cedar Rapids burger king               1\n",
       "                              mcdonalds                 2\n",
       "                              subway                    1\n",
       "...                                                   ...\n",
       "West    WY       Cody         arbys                     1\n",
       "                              burger king               1\n",
       "                 Evanston     dominos pizza             1\n",
       "                              subway                    1\n",
       "                 Gillette     dominos pizza             1\n",
       "                 Jackson      dairy queen               1\n",
       "                              dominos pizza             1\n",
       "                              mcdonalds                 1\n",
       "                              wendys                    1\n",
       "                 Laramie      arbys                     1\n",
       "                              burger king               1\n",
       "                              mcdonalds                 1\n",
       "                              sonic drive in            1\n",
       "                              subway                    2\n",
       "                              taco bell                 1\n",
       "                              taco johns                1\n",
       "                              wendys                    1\n",
       "                 Powell       dominos pizza             1\n",
       "                              mcdonalds                 1\n",
       "                              subway                    1\n",
       "                 Rawlins      burger king               1\n",
       "                              dominos pizza             1\n",
       "                              subway                    1\n",
       "                              taco bell                 1\n",
       "                 Rock Springs sonic drive in            1\n",
       "                              taco bell                 1\n",
       "                 Sheridan     jimmy johns               1\n",
       "                              subway                    2\n",
       "                 Wheatland    burger king               1\n",
       "                              taco johns                1\n",
       "\n",
       "[8269 rows x 1 columns]"
      ]
     },
     "execution_count": 71,
     "metadata": {},
     "output_type": "execute_result"
    }
   ],
   "source": [
    "restaurant_data_new_rd = pd.DataFrame(restaurant_data_new.groupby(['region','province', 'city', 'name'])['name'].count())\n",
    "restaurant_data_new_rd"
   ]
  },
  {
   "cell_type": "code",
   "execution_count": null,
   "metadata": {
    "collapsed": true
   },
   "outputs": [],
   "source": []
  },
  {
   "cell_type": "code",
   "execution_count": null,
   "metadata": {
    "collapsed": true
   },
   "outputs": [],
   "source": []
  },
  {
   "cell_type": "code",
   "execution_count": null,
   "metadata": {
    "collapsed": true
   },
   "outputs": [],
   "source": []
  },
  {
   "cell_type": "code",
   "execution_count": null,
   "metadata": {
    "collapsed": true
   },
   "outputs": [],
   "source": []
  },
  {
   "cell_type": "code",
   "execution_count": null,
   "metadata": {
    "collapsed": true
   },
   "outputs": [],
   "source": []
  },
  {
   "cell_type": "markdown",
   "metadata": {},
   "source": [
    "<a id=section608></a>\n",
    " ### 6.8 Perform Label Encoding for Categorical Variables"
   ]
  },
  {
   "cell_type": "markdown",
   "metadata": {},
   "source": [
    "#### Create a copy of dataframe for Label encoding"
   ]
  },
  {
   "cell_type": "code",
   "execution_count": 74,
   "metadata": {
    "collapsed": true
   },
   "outputs": [],
   "source": [
    "restaurant_data_num = restaurant_data_new.copy(deep=True)  #Creating a new DataFrame for label encoding"
   ]
  },
  {
   "cell_type": "code",
   "execution_count": 75,
   "metadata": {},
   "outputs": [
    {
     "data": {
      "text/html": [
       "<div>\n",
       "<style>\n",
       "    .dataframe thead tr:only-child th {\n",
       "        text-align: right;\n",
       "    }\n",
       "\n",
       "    .dataframe thead th {\n",
       "        text-align: left;\n",
       "    }\n",
       "\n",
       "    .dataframe tbody tr th {\n",
       "        vertical-align: top;\n",
       "    }\n",
       "</style>\n",
       "<table border=\"1\" class=\"dataframe\">\n",
       "  <thead>\n",
       "    <tr style=\"text-align: right;\">\n",
       "      <th></th>\n",
       "      <th>address</th>\n",
       "      <th>city</th>\n",
       "      <th>country</th>\n",
       "      <th>latitude</th>\n",
       "      <th>longitude</th>\n",
       "      <th>name</th>\n",
       "      <th>postalCode</th>\n",
       "      <th>province</th>\n",
       "      <th>region</th>\n",
       "    </tr>\n",
       "  </thead>\n",
       "  <tbody>\n",
       "    <tr>\n",
       "      <th>9872</th>\n",
       "      <td>624 Baltimore Blvd</td>\n",
       "      <td>Westminster</td>\n",
       "      <td>US</td>\n",
       "      <td>39.564600</td>\n",
       "      <td>-76.973600</td>\n",
       "      <td>popeyes chicken and biscuits</td>\n",
       "      <td>21157</td>\n",
       "      <td>MD</td>\n",
       "      <td>South</td>\n",
       "    </tr>\n",
       "    <tr>\n",
       "      <th>8189</th>\n",
       "      <td>Highway 108</td>\n",
       "      <td>Sulphur</td>\n",
       "      <td>US</td>\n",
       "      <td>30.226723</td>\n",
       "      <td>-93.326270</td>\n",
       "      <td>sonic drive in</td>\n",
       "      <td>70663</td>\n",
       "      <td>LA</td>\n",
       "      <td>South</td>\n",
       "    </tr>\n",
       "    <tr>\n",
       "      <th>2425</th>\n",
       "      <td>17971 SW McEwan Rd</td>\n",
       "      <td>Portland</td>\n",
       "      <td>US</td>\n",
       "      <td>45.394334</td>\n",
       "      <td>-122.747032</td>\n",
       "      <td>burger king</td>\n",
       "      <td>97224</td>\n",
       "      <td>OR</td>\n",
       "      <td>West</td>\n",
       "    </tr>\n",
       "    <tr>\n",
       "      <th>5508</th>\n",
       "      <td>919 Highway 65 North</td>\n",
       "      <td>Marshall</td>\n",
       "      <td>US</td>\n",
       "      <td>35.907300</td>\n",
       "      <td>-92.659100</td>\n",
       "      <td>sonic drive in</td>\n",
       "      <td>72650</td>\n",
       "      <td>AR</td>\n",
       "      <td>South</td>\n",
       "    </tr>\n",
       "    <tr>\n",
       "      <th>8299</th>\n",
       "      <td>2703 Dawson Rd</td>\n",
       "      <td>Albany</td>\n",
       "      <td>US</td>\n",
       "      <td>31.615919</td>\n",
       "      <td>-84.219230</td>\n",
       "      <td>chickfila</td>\n",
       "      <td>31707</td>\n",
       "      <td>GA</td>\n",
       "      <td>South</td>\n",
       "    </tr>\n",
       "  </tbody>\n",
       "</table>\n",
       "</div>"
      ],
      "text/plain": [
       "                   address         city country   latitude   longitude  \\\n",
       "9872    624 Baltimore Blvd  Westminster      US  39.564600  -76.973600   \n",
       "8189           Highway 108      Sulphur      US  30.226723  -93.326270   \n",
       "2425    17971 SW McEwan Rd     Portland      US  45.394334 -122.747032   \n",
       "5508  919 Highway 65 North     Marshall      US  35.907300  -92.659100   \n",
       "8299        2703 Dawson Rd       Albany      US  31.615919  -84.219230   \n",
       "\n",
       "                              name postalCode province region  \n",
       "9872  popeyes chicken and biscuits      21157       MD  South  \n",
       "8189                sonic drive in      70663       LA  South  \n",
       "2425                   burger king      97224       OR   West  \n",
       "5508                sonic drive in      72650       AR  South  \n",
       "8299                     chickfila      31707       GA  South  "
      ]
     },
     "execution_count": 75,
     "metadata": {},
     "output_type": "execute_result"
    }
   ],
   "source": [
    "restaurant_data_num.sample(5)"
   ]
  },
  {
   "cell_type": "markdown",
   "metadata": {},
   "source": [
    "#### Perform Label Encoding"
   ]
  },
  {
   "cell_type": "code",
   "execution_count": 76,
   "metadata": {
    "collapsed": true
   },
   "outputs": [],
   "source": [
    "from sklearn.preprocessing import LabelEncoder                                    \n",
    "number = LabelEncoder()                                                           \n",
    "for i in restaurant_data_num.columns:                                                      \n",
    "    restaurant_data_num[i] = number.fit_transform(restaurant_data_num[i].astype('str'))"
   ]
  },
  {
   "cell_type": "code",
   "execution_count": 77,
   "metadata": {},
   "outputs": [
    {
     "data": {
      "text/html": [
       "<div>\n",
       "<style>\n",
       "    .dataframe thead tr:only-child th {\n",
       "        text-align: right;\n",
       "    }\n",
       "\n",
       "    .dataframe thead th {\n",
       "        text-align: left;\n",
       "    }\n",
       "\n",
       "    .dataframe tbody tr th {\n",
       "        vertical-align: top;\n",
       "    }\n",
       "</style>\n",
       "<table border=\"1\" class=\"dataframe\">\n",
       "  <thead>\n",
       "    <tr style=\"text-align: right;\">\n",
       "      <th></th>\n",
       "      <th>address</th>\n",
       "      <th>city</th>\n",
       "      <th>country</th>\n",
       "      <th>latitude</th>\n",
       "      <th>longitude</th>\n",
       "      <th>name</th>\n",
       "      <th>postalCode</th>\n",
       "      <th>province</th>\n",
       "      <th>region</th>\n",
       "    </tr>\n",
       "  </thead>\n",
       "  <tbody>\n",
       "    <tr>\n",
       "      <th>3480</th>\n",
       "      <td>8358</td>\n",
       "      <td>1573</td>\n",
       "      <td>0</td>\n",
       "      <td>7158</td>\n",
       "      <td>4458</td>\n",
       "      <td>186</td>\n",
       "      <td>2180</td>\n",
       "      <td>35</td>\n",
       "      <td>0</td>\n",
       "    </tr>\n",
       "    <tr>\n",
       "      <th>3363</th>\n",
       "      <td>8466</td>\n",
       "      <td>2060</td>\n",
       "      <td>0</td>\n",
       "      <td>9131</td>\n",
       "      <td>97</td>\n",
       "      <td>265</td>\n",
       "      <td>2898</td>\n",
       "      <td>41</td>\n",
       "      <td>0</td>\n",
       "    </tr>\n",
       "    <tr>\n",
       "      <th>1164</th>\n",
       "      <td>1771</td>\n",
       "      <td>1324</td>\n",
       "      <td>0</td>\n",
       "      <td>1079</td>\n",
       "      <td>8562</td>\n",
       "      <td>9</td>\n",
       "      <td>3554</td>\n",
       "      <td>18</td>\n",
       "      <td>2</td>\n",
       "    </tr>\n",
       "    <tr>\n",
       "      <th>6656</th>\n",
       "      <td>6032</td>\n",
       "      <td>1856</td>\n",
       "      <td>0</td>\n",
       "      <td>2664</td>\n",
       "      <td>1532</td>\n",
       "      <td>265</td>\n",
       "      <td>4892</td>\n",
       "      <td>4</td>\n",
       "      <td>3</td>\n",
       "    </tr>\n",
       "    <tr>\n",
       "      <th>7443</th>\n",
       "      <td>7249</td>\n",
       "      <td>39</td>\n",
       "      <td>0</td>\n",
       "      <td>2566</td>\n",
       "      <td>5648</td>\n",
       "      <td>265</td>\n",
       "      <td>1107</td>\n",
       "      <td>10</td>\n",
       "      <td>2</td>\n",
       "    </tr>\n",
       "  </tbody>\n",
       "</table>\n",
       "</div>"
      ],
      "text/plain": [
       "      address  city  country  latitude  longitude  name  postalCode  province  \\\n",
       "3480     8358  1573        0      7158       4458   186        2180        35   \n",
       "3363     8466  2060        0      9131         97   265        2898        41   \n",
       "1164     1771  1324        0      1079       8562     9        3554        18   \n",
       "6656     6032  1856        0      2664       1532   265        4892         4   \n",
       "7443     7249    39        0      2566       5648   265        1107        10   \n",
       "\n",
       "      region  \n",
       "3480       0  \n",
       "3363       0  \n",
       "1164       2  \n",
       "6656       3  \n",
       "7443       2  "
      ]
     },
     "execution_count": 77,
     "metadata": {},
     "output_type": "execute_result"
    }
   ],
   "source": [
    "restaurant_data_num.sample(5)"
   ]
  },
  {
   "cell_type": "code",
   "execution_count": 78,
   "metadata": {},
   "outputs": [
    {
     "data": {
      "text/plain": [
       "province     -0.115382\n",
       "name         -0.001757\n",
       "city          0.036859\n",
       "longitude    -0.508975\n",
       "address      -0.006144\n",
       "postalCode    0.328078\n",
       "region        1.000000\n",
       "country            NaN\n",
       "latitude     -0.479503\n",
       "Name: region, dtype: float64"
      ]
     },
     "execution_count": 78,
     "metadata": {},
     "output_type": "execute_result"
    }
   ],
   "source": [
    "corr=restaurant_data_num.corr()['region']\n",
    "corr[np.argsort(corr,axis=0)[::-1]]"
   ]
  },
  {
   "cell_type": "markdown",
   "metadata": {},
   "source": [
    "<a id=section607></a>\n",
    " ### 6.9 Correlation Matrix of Fast Food Restaurants"
   ]
  },
  {
   "cell_type": "code",
   "execution_count": 80,
   "metadata": {},
   "outputs": [
    {
     "data": {
      "text/plain": [
       "<matplotlib.text.Text at 0x26f76ea9320>"
      ]
     },
     "execution_count": 80,
     "metadata": {},
     "output_type": "execute_result"
    },
    {
     "data": {
      "image/png": "[encoded data removed]",
      "text/plain": [
       "<matplotlib.figure.Figure at 0x26f7370fe10>"
      ]
     },
     "metadata": {},
     "output_type": "display_data"
    }
   ],
   "source": [
    "corr = restaurant_data_num.corr()\n",
    "plt.figure(figsize=(10,10))\n",
    "sns.heatmap(corr,vmax=.8,linewidth=.01, square = True, annot = True,cmap='YlGnBu',linecolor ='black')\n",
    "plt.title('Correlation between attributes')"
   ]
  },
  {
   "cell_type": "code",
   "execution_count": null,
   "metadata": {
    "collapsed": true
   },
   "outputs": [],
   "source": []
  },
  {
   "cell_type": "code",
   "execution_count": null,
   "metadata": {
    "collapsed": true
   },
   "outputs": [],
   "source": []
  }
 ],
 "metadata": {
  "kernelspec": {
   "display_name": "Python 3",
   "language": "python",
   "name": "python3"
  },
  "language_info": {
   "codemirror_mode": {
    "name": "ipython",
    "version": 3
   },
   "file_extension": ".py",
   "mimetype": "text/x-python",
   "name": "python",
   "nbconvert_exporter": "python",
   "pygments_lexer": "ipython3",
   "version": "3.6.1"
  }
 },
 "nbformat": 4,
 "nbformat_minor": 2
}
